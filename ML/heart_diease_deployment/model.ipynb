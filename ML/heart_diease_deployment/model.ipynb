{
 "cells": [
  {
   "cell_type": "code",
   "execution_count": 125,
   "metadata": {},
   "outputs": [],
   "source": [
    "import pandas as pd\n",
    "import numpy as np\n",
    "pd.pandas.set_option('display.max_columns', None)\n",
    "import matplotlib.pyplot as plt"
   ]
  },
  {
   "cell_type": "code",
   "execution_count": 126,
   "metadata": {},
   "outputs": [],
   "source": [
    "df = pd.read_csv('heart_disease.csv')"
   ]
  },
  {
   "cell_type": "code",
   "execution_count": 127,
   "metadata": {},
   "outputs": [
    {
     "data": {
      "text/plain": [
       "(303, 14)"
      ]
     },
     "execution_count": 127,
     "metadata": {},
     "output_type": "execute_result"
    }
   ],
   "source": [
    "df.shape"
   ]
  },
  {
   "cell_type": "markdown",
   "metadata": {},
   "source": [
    "## missing data"
   ]
  },
  {
   "cell_type": "code",
   "execution_count": 128,
   "metadata": {},
   "outputs": [],
   "source": [
    "missing = [i for i in df.columns if df[i].isnull().sum()>0]"
   ]
  },
  {
   "cell_type": "code",
   "execution_count": 129,
   "metadata": {},
   "outputs": [
    {
     "data": {
      "text/plain": [
       "[]"
      ]
     },
     "execution_count": 129,
     "metadata": {},
     "output_type": "execute_result"
    }
   ],
   "source": [
    "missing\n",
    "# no column has missing values"
   ]
  },
  {
   "cell_type": "code",
   "execution_count": 130,
   "metadata": {},
   "outputs": [
    {
     "data": {
      "text/html": [
       "<div>\n",
       "<style scoped>\n",
       "    .dataframe tbody tr th:only-of-type {\n",
       "        vertical-align: middle;\n",
       "    }\n",
       "\n",
       "    .dataframe tbody tr th {\n",
       "        vertical-align: top;\n",
       "    }\n",
       "\n",
       "    .dataframe thead th {\n",
       "        text-align: right;\n",
       "    }\n",
       "</style>\n",
       "<table border=\"1\" class=\"dataframe\">\n",
       "  <thead>\n",
       "    <tr style=\"text-align: right;\">\n",
       "      <th></th>\n",
       "      <th>age</th>\n",
       "      <th>sex</th>\n",
       "      <th>cp</th>\n",
       "      <th>trestbps</th>\n",
       "      <th>chol</th>\n",
       "      <th>fbs</th>\n",
       "      <th>restecg</th>\n",
       "      <th>thalach</th>\n",
       "      <th>exang</th>\n",
       "      <th>oldpeak</th>\n",
       "      <th>slope</th>\n",
       "      <th>ca</th>\n",
       "      <th>thal</th>\n",
       "      <th>target</th>\n",
       "    </tr>\n",
       "  </thead>\n",
       "  <tbody>\n",
       "    <tr>\n",
       "      <th>0</th>\n",
       "      <td>63</td>\n",
       "      <td>1</td>\n",
       "      <td>3</td>\n",
       "      <td>145</td>\n",
       "      <td>233</td>\n",
       "      <td>1</td>\n",
       "      <td>0</td>\n",
       "      <td>150</td>\n",
       "      <td>0</td>\n",
       "      <td>2.3</td>\n",
       "      <td>0</td>\n",
       "      <td>0</td>\n",
       "      <td>1</td>\n",
       "      <td>1</td>\n",
       "    </tr>\n",
       "    <tr>\n",
       "      <th>1</th>\n",
       "      <td>37</td>\n",
       "      <td>1</td>\n",
       "      <td>2</td>\n",
       "      <td>130</td>\n",
       "      <td>250</td>\n",
       "      <td>0</td>\n",
       "      <td>1</td>\n",
       "      <td>187</td>\n",
       "      <td>0</td>\n",
       "      <td>3.5</td>\n",
       "      <td>0</td>\n",
       "      <td>0</td>\n",
       "      <td>2</td>\n",
       "      <td>1</td>\n",
       "    </tr>\n",
       "    <tr>\n",
       "      <th>2</th>\n",
       "      <td>41</td>\n",
       "      <td>0</td>\n",
       "      <td>1</td>\n",
       "      <td>130</td>\n",
       "      <td>204</td>\n",
       "      <td>0</td>\n",
       "      <td>0</td>\n",
       "      <td>172</td>\n",
       "      <td>0</td>\n",
       "      <td>1.4</td>\n",
       "      <td>2</td>\n",
       "      <td>0</td>\n",
       "      <td>2</td>\n",
       "      <td>1</td>\n",
       "    </tr>\n",
       "    <tr>\n",
       "      <th>3</th>\n",
       "      <td>56</td>\n",
       "      <td>1</td>\n",
       "      <td>1</td>\n",
       "      <td>120</td>\n",
       "      <td>236</td>\n",
       "      <td>0</td>\n",
       "      <td>1</td>\n",
       "      <td>178</td>\n",
       "      <td>0</td>\n",
       "      <td>0.8</td>\n",
       "      <td>2</td>\n",
       "      <td>0</td>\n",
       "      <td>2</td>\n",
       "      <td>1</td>\n",
       "    </tr>\n",
       "    <tr>\n",
       "      <th>4</th>\n",
       "      <td>57</td>\n",
       "      <td>0</td>\n",
       "      <td>0</td>\n",
       "      <td>120</td>\n",
       "      <td>354</td>\n",
       "      <td>0</td>\n",
       "      <td>1</td>\n",
       "      <td>163</td>\n",
       "      <td>1</td>\n",
       "      <td>0.6</td>\n",
       "      <td>2</td>\n",
       "      <td>0</td>\n",
       "      <td>2</td>\n",
       "      <td>1</td>\n",
       "    </tr>\n",
       "  </tbody>\n",
       "</table>\n",
       "</div>"
      ],
      "text/plain": [
       "   age  sex  cp  trestbps  chol  fbs  restecg  thalach  exang  oldpeak  slope  \\\n",
       "0   63    1   3       145   233    1        0      150      0      2.3      0   \n",
       "1   37    1   2       130   250    0        1      187      0      3.5      0   \n",
       "2   41    0   1       130   204    0        0      172      0      1.4      2   \n",
       "3   56    1   1       120   236    0        1      178      0      0.8      2   \n",
       "4   57    0   0       120   354    0        1      163      1      0.6      2   \n",
       "\n",
       "   ca  thal  target  \n",
       "0   0     1       1  \n",
       "1   0     2       1  \n",
       "2   0     2       1  \n",
       "3   0     2       1  \n",
       "4   0     2       1  "
      ]
     },
     "execution_count": 130,
     "metadata": {},
     "output_type": "execute_result"
    }
   ],
   "source": [
    "df.head()"
   ]
  },
  {
   "cell_type": "code",
   "execution_count": 131,
   "metadata": {},
   "outputs": [
    {
     "name": "stdout",
     "output_type": "stream",
     "text": [
      "<class 'pandas.core.frame.DataFrame'>\n",
      "RangeIndex: 303 entries, 0 to 302\n",
      "Data columns (total 14 columns):\n",
      " #   Column    Non-Null Count  Dtype  \n",
      "---  ------    --------------  -----  \n",
      " 0   age       303 non-null    int64  \n",
      " 1   sex       303 non-null    int64  \n",
      " 2   cp        303 non-null    int64  \n",
      " 3   trestbps  303 non-null    int64  \n",
      " 4   chol      303 non-null    int64  \n",
      " 5   fbs       303 non-null    int64  \n",
      " 6   restecg   303 non-null    int64  \n",
      " 7   thalach   303 non-null    int64  \n",
      " 8   exang     303 non-null    int64  \n",
      " 9   oldpeak   303 non-null    float64\n",
      " 10  slope     303 non-null    int64  \n",
      " 11  ca        303 non-null    int64  \n",
      " 12  thal      303 non-null    int64  \n",
      " 13  target    303 non-null    int64  \n",
      "dtypes: float64(1), int64(13)\n",
      "memory usage: 33.3 KB\n"
     ]
    }
   ],
   "source": [
    "df.info()"
   ]
  },
  {
   "cell_type": "markdown",
   "metadata": {},
   "source": [
    "## Meta-data"
   ]
  },
  {
   "cell_type": "code",
   "execution_count": 132,
   "metadata": {},
   "outputs": [],
   "source": [
    "# 9 cp: chest pain type\n",
    "#-- Value 1: typical angina\n",
    "#-- Value 2: atypical angina\n",
    "#-- Value 3: non-anginal pain\n",
    "#-- Value 4: asymptomatic\n",
    "\n",
    "# 10 trestbps: resting blood pressure (in mm Hg on admission to the hospital)\n",
    "\n",
    "# 16 fbs: (fasting blood sugar > 120 mg/dl) (1 = true; 0 = false)\n",
    "\n",
    "# 19 restecg: resting electrocardiographic results\n",
    "#-- Value 0: normal\n",
    "#-- Value 1: having ST-T wave abnormality (T wave inversions and/or ST elevation or depression of > 0.05 mV)\n",
    "#-- Value 2: showing probable or definite left ventricular hypertrophy by Estes' criteria\n",
    "\n",
    "# 32 thalach: maximum heart rate achieved\n",
    "\n",
    "# 38 exang: exercise induced angina (1 = yes; 0 = no)\n",
    "\n",
    "# 44 ca: number of major vessels (0-3) colored by flourosopy\n",
    "\n",
    "# 51 thal: 3 = normal; 6 = fixed defect; 7 = reversable defect\n",
    "\n",
    "# 58 num: diagnosis of heart disease (angiographic disease status)\n",
    "#-- Value 0: < 50% diameter narrowing\n",
    "#-- Value 1: > 50% diameter narrowing\n",
    "#(in any major vessel: attributes 59 through 68 are vessels)"
   ]
  },
  {
   "cell_type": "markdown",
   "metadata": {},
   "source": [
    "## Exploratory data analysis"
   ]
  },
  {
   "cell_type": "markdown",
   "metadata": {},
   "source": [
    "### Numerical columns"
   ]
  },
  {
   "cell_type": "code",
   "execution_count": 133,
   "metadata": {},
   "outputs": [],
   "source": [
    "num_cols = ['age', 'trestbps', 'chol', 'thalach','oldpeak']"
   ]
  },
  {
   "cell_type": "code",
   "execution_count": 134,
   "metadata": {},
   "outputs": [
    {
     "data": {
      "image/png": "[encoded data removed]",
      "text/plain": [
       "<Figure size 432x288 with 1 Axes>"
      ]
     },
     "metadata": {
      "needs_background": "light"
     },
     "output_type": "display_data"
    },
    {
     "data": {
      "image/png": "[encoded data removed]",
      "text/plain": [
       "<Figure size 432x288 with 1 Axes>"
      ]
     },
     "metadata": {
      "needs_background": "light"
     },
     "output_type": "display_data"
    },
    {
     "data": {
      "image/png": "[encoded data removed]",
      "text/plain": [
       "<Figure size 432x288 with 1 Axes>"
      ]
     },
     "metadata": {
      "needs_background": "light"
     },
     "output_type": "display_data"
    },
    {
     "data": {
      "image/png": "[encoded data removed]",
      "text/plain": [
       "<Figure size 432x288 with 1 Axes>"
      ]
     },
     "metadata": {
      "needs_background": "light"
     },
     "output_type": "display_data"
    },
    {
     "data": {
      "image/png": "[encoded data removed]",
      "text/plain": [
       "<Figure size 432x288 with 1 Axes>"
      ]
     },
     "metadata": {
      "needs_background": "light"
     },
     "output_type": "display_data"
    }
   ],
   "source": [
    "def analyze_num_cols(var, df):\n",
    "    fig, ax = plt.subplots()\n",
    "    df[var].hist(bins=15)\n",
    "    ax.set_title(var)\n",
    "    ax.set_ylabel('counts')\n",
    "\n",
    "for var in num_cols:\n",
    "    analyze_num_cols(var, df)"
   ]
  },
  {
   "cell_type": "code",
   "execution_count": 135,
   "metadata": {},
   "outputs": [
    {
     "data": {
      "text/plain": [
       "<AxesSubplot:>"
      ]
     },
     "execution_count": 135,
     "metadata": {},
     "output_type": "execute_result"
    },
    {
     "data": {
      "image/png": "[encoded data removed]",
      "text/plain": [
       "<Figure size 432x288 with 1 Axes>"
      ]
     },
     "metadata": {
      "needs_background": "light"
     },
     "output_type": "display_data"
    }
   ],
   "source": [
    "df.oldpeak.value_counts().hist()"
   ]
  },
  {
   "cell_type": "code",
   "execution_count": 136,
   "metadata": {},
   "outputs": [
    {
     "data": {
      "text/plain": [
       "2    142\n",
       "1    140\n",
       "0     21\n",
       "Name: slope, dtype: int64"
      ]
     },
     "execution_count": 136,
     "metadata": {},
     "output_type": "execute_result"
    }
   ],
   "source": [
    "df.slope.value_counts()"
   ]
  },
  {
   "cell_type": "markdown",
   "metadata": {},
   "source": [
    "### Outliers"
   ]
  },
  {
   "cell_type": "code",
   "execution_count": 137,
   "metadata": {},
   "outputs": [
    {
     "data": {
      "image/png": "[encoded data removed]",
      "text/plain": [
       "<Figure size 432x288 with 1 Axes>"
      ]
     },
     "metadata": {
      "needs_background": "light"
     },
     "output_type": "display_data"
    },
    {
     "data": {
      "image/png": "[encoded data removed]",
      "text/plain": [
       "<Figure size 432x288 with 1 Axes>"
      ]
     },
     "metadata": {
      "needs_background": "light"
     },
     "output_type": "display_data"
    },
    {
     "data": {
      "image/png": "[encoded data removed]",
      "text/plain": [
       "<Figure size 432x288 with 1 Axes>"
      ]
     },
     "metadata": {
      "needs_background": "light"
     },
     "output_type": "display_data"
    },
    {
     "data": {
      "image/png": "[encoded data removed]",
      "text/plain": [
       "<Figure size 432x288 with 1 Axes>"
      ]
     },
     "metadata": {
      "needs_background": "light"
     },
     "output_type": "display_data"
    },
    {
     "data": {
      "image/png": "[encoded data removed]",
      "text/plain": [
       "<Figure size 432x288 with 1 Axes>"
      ]
     },
     "metadata": {
      "needs_background": "light"
     },
     "output_type": "display_data"
    }
   ],
   "source": [
    "def find_outliers(var, df):\n",
    "    fig,ax = plt.subplots()\n",
    "    df.boxplot(column=var)\n",
    "    ax.set_title(var)\n",
    "    ax.set_ylabel('counts')\n",
    "for var in num_cols:\n",
    "    find_outliers(var, df)"
   ]
  },
  {
   "cell_type": "markdown",
   "metadata": {},
   "source": [
    "### Categorical columns"
   ]
  },
  {
   "cell_type": "code",
   "execution_count": 138,
   "metadata": {},
   "outputs": [],
   "source": [
    "cat_cols = ['sex', 'cp', 'fbs', 'restecg', 'exang', 'slope', 'ca', 'thal']"
   ]
  },
  {
   "cell_type": "code",
   "execution_count": 139,
   "metadata": {},
   "outputs": [
    {
     "data": {
      "image/png": "[encoded data removed]",
      "text/plain": [
       "<Figure size 432x288 with 1 Axes>"
      ]
     },
     "metadata": {
      "needs_background": "light"
     },
     "output_type": "display_data"
    },
    {
     "data": {
      "image/png": "[encoded data removed]",
      "text/plain": [
       "<Figure size 432x288 with 1 Axes>"
      ]
     },
     "metadata": {
      "needs_background": "light"
     },
     "output_type": "display_data"
    },
    {
     "data": {
      "image/png": "[encoded data removed]",
      "text/plain": [
       "<Figure size 432x288 with 1 Axes>"
      ]
     },
     "metadata": {
      "needs_background": "light"
     },
     "output_type": "display_data"
    },
    {
     "data": {
      "image/png": "[encoded data removed]",
      "text/plain": [
       "<Figure size 432x288 with 1 Axes>"
      ]
     },
     "metadata": {
      "needs_background": "light"
     },
     "output_type": "display_data"
    },
    {
     "data": {
      "image/png": "[encoded data removed]",
      "text/plain": [
       "<Figure size 432x288 with 1 Axes>"
      ]
     },
     "metadata": {
      "needs_background": "light"
     },
     "output_type": "display_data"
    },
    {
     "data": {
      "image/png": "[encoded data removed]",
      "text/plain": [
       "<Figure size 432x288 with 1 Axes>"
      ]
     },
     "metadata": {
      "needs_background": "light"
     },
     "output_type": "display_data"
    },
    {
     "data": {
      "image/png": "[encoded data removed]",
      "text/plain": [
       "<Figure size 432x288 with 1 Axes>"
      ]
     },
     "metadata": {
      "needs_background": "light"
     },
     "output_type": "display_data"
    },
    {
     "data": {
      "image/png": "[encoded data removed]",
      "text/plain": [
       "<Figure size 432x288 with 1 Axes>"
      ]
     },
     "metadata": {
      "needs_background": "light"
     },
     "output_type": "display_data"
    }
   ],
   "source": [
    "def cat_cols_counts(var, df):\n",
    "    fig,ax = plt.subplots()\n",
    "    df[var].value_counts().plot.bar()\n",
    "    ax.set_title(var)\n",
    "    ax.set_ylabel('counts')\n",
    "\n",
    "for var in cat_cols:\n",
    "    cat_cols_counts(var, df)"
   ]
  },
  {
   "cell_type": "code",
   "execution_count": 140,
   "metadata": {},
   "outputs": [
    {
     "data": {
      "image/png": "[encoded data removed]",
      "text/plain": [
       "<Figure size 432x288 with 1 Axes>"
      ]
     },
     "metadata": {
      "needs_background": "light"
     },
     "output_type": "display_data"
    },
    {
     "data": {
      "image/png": "[encoded data removed]",
      "text/plain": [
       "<Figure size 432x288 with 1 Axes>"
      ]
     },
     "metadata": {
      "needs_background": "light"
     },
     "output_type": "display_data"
    },
    {
     "data": {
      "image/png": "[encoded data removed]",
      "text/plain": [
       "<Figure size 432x288 with 1 Axes>"
      ]
     },
     "metadata": {
      "needs_background": "light"
     },
     "output_type": "display_data"
    },
    {
     "data": {
      "image/png": "[encoded data removed]",
      "text/plain": [
       "<Figure size 432x288 with 1 Axes>"
      ]
     },
     "metadata": {
      "needs_background": "light"
     },
     "output_type": "display_data"
    },
    {
     "data": {
      "image/png": "[encoded data removed]",
      "text/plain": [
       "<Figure size 432x288 with 1 Axes>"
      ]
     },
     "metadata": {
      "needs_background": "light"
     },
     "output_type": "display_data"
    },
    {
     "data": {
      "image/png": "[encoded data removed]",
      "text/plain": [
       "<Figure size 432x288 with 1 Axes>"
      ]
     },
     "metadata": {
      "needs_background": "light"
     },
     "output_type": "display_data"
    },
    {
     "data": {
      "image/png": "[encoded data removed]",
      "text/plain": [
       "<Figure size 432x288 with 1 Axes>"
      ]
     },
     "metadata": {
      "needs_background": "light"
     },
     "output_type": "display_data"
    },
    {
     "data": {
      "image/png": "[encoded data removed]",
      "text/plain": [
       "<Figure size 432x288 with 1 Axes>"
      ]
     },
     "metadata": {
      "needs_background": "light"
     },
     "output_type": "display_data"
    }
   ],
   "source": [
    "def analyze_cat_cols(var, df):\n",
    "    df.groupby(var)['target'].mean().plot.bar()\n",
    "    plt.title(var)\n",
    "    plt.ylabel('heart diease rate')\n",
    "    plt.show()\n",
    "\n",
    "for var in cat_cols:\n",
    "    analyze_cat_cols(var, df)"
   ]
  },
  {
   "cell_type": "markdown",
   "metadata": {},
   "source": [
    "### Detect rare labels"
   ]
  },
  {
   "cell_type": "code",
   "execution_count": 141,
   "metadata": {},
   "outputs": [
    {
     "name": "stdout",
     "output_type": "stream",
     "text": [
      "Series([], Name: target, dtype: float64)\n",
      "\n",
      "Series([], Name: target, dtype: float64)\n",
      "\n",
      "Series([], Name: target, dtype: float64)\n",
      "\n",
      "Series([], Name: target, dtype: float64)\n",
      "\n",
      "Series([], Name: target, dtype: float64)\n",
      "\n",
      "Series([], Name: target, dtype: float64)\n",
      "\n",
      "Series([], Name: target, dtype: float64)\n",
      "\n",
      "thal\n",
      "0    0.006601\n",
      "Name: target, dtype: float64\n",
      "\n"
     ]
    }
   ],
   "source": [
    "def rare_labels(var, df, rare_perc):\n",
    "    tmp = df.groupby(var)['target'].count()/len(df)\n",
    "    return tmp[tmp<rare_perc]\n",
    "for var in cat_cols:\n",
    "    print(rare_labels(var, df, 0.01))\n",
    "    print()"
   ]
  },
  {
   "cell_type": "code",
   "execution_count": 142,
   "metadata": {},
   "outputs": [
    {
     "data": {
      "text/plain": [
       "2    166\n",
       "3    117\n",
       "1     18\n",
       "0      2\n",
       "Name: thal, dtype: int64"
      ]
     },
     "execution_count": 142,
     "metadata": {},
     "output_type": "execute_result"
    }
   ],
   "source": [
    "df.thal.value_counts()\n",
    "# 0 in thal is a rare label with only o.66% existence in this column"
   ]
  },
  {
   "cell_type": "markdown",
   "metadata": {},
   "source": [
    "## Feature engineering"
   ]
  },
  {
   "cell_type": "code",
   "execution_count": 143,
   "metadata": {},
   "outputs": [],
   "source": [
    "from sklearn.model_selection import train_test_split\n",
    "from sklearn.preprocessing import MinMaxScaler"
   ]
  },
  {
   "cell_type": "code",
   "execution_count": 144,
   "metadata": {},
   "outputs": [],
   "source": [
    "# split the data first before engoneering\n",
    "X = df.copy()\n",
    "y = df['target'] \n",
    "X_train, X_test, y_train, y_test = train_test_split(X, y, test_size=0.1, random_state=101)  "
   ]
  },
  {
   "cell_type": "markdown",
   "metadata": {},
   "source": [
    "### Handling rare labels"
   ]
  },
  {
   "cell_type": "code",
   "execution_count": 145,
   "metadata": {},
   "outputs": [
    {
     "data": {
      "text/html": [
       "<div>\n",
       "<style scoped>\n",
       "    .dataframe tbody tr th:only-of-type {\n",
       "        vertical-align: middle;\n",
       "    }\n",
       "\n",
       "    .dataframe tbody tr th {\n",
       "        vertical-align: top;\n",
       "    }\n",
       "\n",
       "    .dataframe thead th {\n",
       "        text-align: right;\n",
       "    }\n",
       "</style>\n",
       "<table border=\"1\" class=\"dataframe\">\n",
       "  <thead>\n",
       "    <tr style=\"text-align: right;\">\n",
       "      <th></th>\n",
       "      <th>age</th>\n",
       "      <th>sex</th>\n",
       "      <th>cp</th>\n",
       "      <th>trestbps</th>\n",
       "      <th>chol</th>\n",
       "      <th>fbs</th>\n",
       "      <th>restecg</th>\n",
       "      <th>thalach</th>\n",
       "      <th>exang</th>\n",
       "      <th>oldpeak</th>\n",
       "      <th>slope</th>\n",
       "      <th>ca</th>\n",
       "      <th>thal</th>\n",
       "      <th>target</th>\n",
       "    </tr>\n",
       "  </thead>\n",
       "  <tbody>\n",
       "    <tr>\n",
       "      <th>48</th>\n",
       "      <td>53</td>\n",
       "      <td>0</td>\n",
       "      <td>2</td>\n",
       "      <td>128</td>\n",
       "      <td>216</td>\n",
       "      <td>0</td>\n",
       "      <td>0</td>\n",
       "      <td>115</td>\n",
       "      <td>0</td>\n",
       "      <td>0.0</td>\n",
       "      <td>2</td>\n",
       "      <td>0</td>\n",
       "      <td>0</td>\n",
       "      <td>1</td>\n",
       "    </tr>\n",
       "    <tr>\n",
       "      <th>281</th>\n",
       "      <td>52</td>\n",
       "      <td>1</td>\n",
       "      <td>0</td>\n",
       "      <td>128</td>\n",
       "      <td>204</td>\n",
       "      <td>1</td>\n",
       "      <td>1</td>\n",
       "      <td>156</td>\n",
       "      <td>1</td>\n",
       "      <td>1.0</td>\n",
       "      <td>1</td>\n",
       "      <td>0</td>\n",
       "      <td>0</td>\n",
       "      <td>0</td>\n",
       "    </tr>\n",
       "  </tbody>\n",
       "</table>\n",
       "</div>"
      ],
      "text/plain": [
       "     age  sex  cp  trestbps  chol  fbs  restecg  thalach  exang  oldpeak  \\\n",
       "48    53    0   2       128   216    0        0      115      0      0.0   \n",
       "281   52    1   0       128   204    1        1      156      1      1.0   \n",
       "\n",
       "     slope  ca  thal  target  \n",
       "48       2   0     0       1  \n",
       "281      1   0     0       0  "
      ]
     },
     "execution_count": 145,
     "metadata": {},
     "output_type": "execute_result"
    }
   ],
   "source": [
    "# from the above analysis, we know that \"thal\" has a rare label \"0\"\n",
    "# Examine the meta-data, it didn't say what 0 means in \"thal\" column, so I'll just drop it.\n",
    "X_train[X_train['thal']==0]\n"
   ]
  },
  {
   "cell_type": "code",
   "execution_count": 146,
   "metadata": {},
   "outputs": [
    {
     "data": {
      "text/html": [
       "<div>\n",
       "<style scoped>\n",
       "    .dataframe tbody tr th:only-of-type {\n",
       "        vertical-align: middle;\n",
       "    }\n",
       "\n",
       "    .dataframe tbody tr th {\n",
       "        vertical-align: top;\n",
       "    }\n",
       "\n",
       "    .dataframe thead th {\n",
       "        text-align: right;\n",
       "    }\n",
       "</style>\n",
       "<table border=\"1\" class=\"dataframe\">\n",
       "  <thead>\n",
       "    <tr style=\"text-align: right;\">\n",
       "      <th></th>\n",
       "      <th>age</th>\n",
       "      <th>sex</th>\n",
       "      <th>cp</th>\n",
       "      <th>trestbps</th>\n",
       "      <th>chol</th>\n",
       "      <th>fbs</th>\n",
       "      <th>restecg</th>\n",
       "      <th>thalach</th>\n",
       "      <th>exang</th>\n",
       "      <th>oldpeak</th>\n",
       "      <th>slope</th>\n",
       "      <th>ca</th>\n",
       "      <th>thal</th>\n",
       "      <th>target</th>\n",
       "    </tr>\n",
       "  </thead>\n",
       "  <tbody>\n",
       "  </tbody>\n",
       "</table>\n",
       "</div>"
      ],
      "text/plain": [
       "Empty DataFrame\n",
       "Columns: [age, sex, cp, trestbps, chol, fbs, restecg, thalach, exang, oldpeak, slope, ca, thal, target]\n",
       "Index: []"
      ]
     },
     "execution_count": 146,
     "metadata": {},
     "output_type": "execute_result"
    }
   ],
   "source": [
    "X_test[X_test['thal']==0]\n",
    "# All the rare labels are in the training set"
   ]
  },
  {
   "cell_type": "code",
   "execution_count": 147,
   "metadata": {},
   "outputs": [],
   "source": [
    "rare_index = X_train[X_train['thal']==0].index"
   ]
  },
  {
   "cell_type": "code",
   "execution_count": 148,
   "metadata": {},
   "outputs": [
    {
     "name": "stderr",
     "output_type": "stream",
     "text": [
      "D:\\Udemy\\envs\\my_env\\lib\\site-packages\\pandas\\core\\frame.py:4162: SettingWithCopyWarning: \n",
      "A value is trying to be set on a copy of a slice from a DataFrame\n",
      "\n",
      "See the caveats in the documentation: https://pandas.pydata.org/pandas-docs/stable/user_guide/indexing.html#returning-a-view-versus-a-copy\n",
      "  return super().drop(\n"
     ]
    }
   ],
   "source": [
    "X_train.drop(index=rare_index, inplace=True)"
   ]
  },
  {
   "cell_type": "code",
   "execution_count": 149,
   "metadata": {},
   "outputs": [
    {
     "data": {
      "text/plain": [
       "(270, 14)"
      ]
     },
     "execution_count": 149,
     "metadata": {},
     "output_type": "execute_result"
    }
   ],
   "source": [
    "X_train.shape"
   ]
  },
  {
   "cell_type": "markdown",
   "metadata": {},
   "source": [
    "### Encoding categorical columns"
   ]
  },
  {
   "cell_type": "code",
   "execution_count": 150,
   "metadata": {},
   "outputs": [],
   "source": [
    "# use ordered-integer encoding\n",
    "ordinal_cols = ['thal', 'ca', 'slope', 'restecg']\n",
    "# use one hot encoding\n",
    "onehot_cols = ['cp']"
   ]
  },
  {
   "cell_type": "code",
   "execution_count": 151,
   "metadata": {},
   "outputs": [
    {
     "data": {
      "image/png": "[encoded data removed]",
      "text/plain": [
       "<Figure size 432x288 with 1 Axes>"
      ]
     },
     "metadata": {
      "needs_background": "light"
     },
     "output_type": "display_data"
    },
    {
     "data": {
      "image/png": "[encoded data removed]",
      "text/plain": [
       "<Figure size 432x288 with 1 Axes>"
      ]
     },
     "metadata": {
      "needs_background": "light"
     },
     "output_type": "display_data"
    },
    {
     "data": {
      "image/png": "[encoded data removed]",
      "text/plain": [
       "<Figure size 432x288 with 1 Axes>"
      ]
     },
     "metadata": {
      "needs_background": "light"
     },
     "output_type": "display_data"
    },
    {
     "data": {
      "image/png": "[encoded data removed]",
      "text/plain": [
       "<Figure size 432x288 with 1 Axes>"
      ]
     },
     "metadata": {
      "needs_background": "light"
     },
     "output_type": "display_data"
    }
   ],
   "source": [
    "# ordered-integer encoding for ['thal', 'ca', 'slope'] \n",
    "for var in ordinal_cols:\n",
    "    fig,ax = plt.subplots()\n",
    "    X_train.groupby(var)['target'].mean().plot.bar()\n",
    "    ax.set_title(var)\n",
    "    ax.set_ylabel('heart disease rate');"
   ]
  },
  {
   "cell_type": "code",
   "execution_count": 152,
   "metadata": {},
   "outputs": [
    {
     "name": "stderr",
     "output_type": "stream",
     "text": [
      "<ipython-input-152-abdc21275fd1>:5: SettingWithCopyWarning: \n",
      "A value is trying to be set on a copy of a slice from a DataFrame.\n",
      "Try using .loc[row_indexer,col_indexer] = value instead\n",
      "\n",
      "See the caveats in the documentation: https://pandas.pydata.org/pandas-docs/stable/user_guide/indexing.html#returning-a-view-versus-a-copy\n",
      "  train[var] = train[var].map(ordinal_mapping)\n",
      "<ipython-input-152-abdc21275fd1>:6: SettingWithCopyWarning: \n",
      "A value is trying to be set on a copy of a slice from a DataFrame.\n",
      "Try using .loc[row_indexer,col_indexer] = value instead\n",
      "\n",
      "See the caveats in the documentation: https://pandas.pydata.org/pandas-docs/stable/user_guide/indexing.html#returning-a-view-versus-a-copy\n",
      "  test[var] = test[var].map(ordinal_mapping)\n"
     ]
    }
   ],
   "source": [
    "# order the categories accoding to their relation with target\n",
    "def repalce_category(train, test, var, target): \n",
    "    label_order = train.groupby(var)[target].mean().sort_values().index\n",
    "    ordinal_mapping = {k:i for i,k in enumerate(label_order)}\n",
    "    train[var] = train[var].map(ordinal_mapping)\n",
    "    test[var] = test[var].map(ordinal_mapping)\n",
    "    \n",
    "for var in ordinal_cols:\n",
    "    repalce_category(X_train, X_test, var, 'target')"
   ]
  },
  {
   "cell_type": "code",
   "execution_count": 153,
   "metadata": {},
   "outputs": [
    {
     "data": {
      "image/png": "[encoded data removed]",
      "text/plain": [
       "<Figure size 432x288 with 1 Axes>"
      ]
     },
     "metadata": {
      "needs_background": "light"
     },
     "output_type": "display_data"
    },
    {
     "data": {
      "image/png": "[encoded data removed]",
      "text/plain": [
       "<Figure size 432x288 with 1 Axes>"
      ]
     },
     "metadata": {
      "needs_background": "light"
     },
     "output_type": "display_data"
    },
    {
     "data": {
      "image/png": "[encoded data removed]",
      "text/plain": [
       "<Figure size 432x288 with 1 Axes>"
      ]
     },
     "metadata": {
      "needs_background": "light"
     },
     "output_type": "display_data"
    },
    {
     "data": {
      "image/png": "[encoded data removed]",
      "text/plain": [
       "<Figure size 432x288 with 1 Axes>"
      ]
     },
     "metadata": {
      "needs_background": "light"
     },
     "output_type": "display_data"
    }
   ],
   "source": [
    "for var in ordinal_cols:\n",
    "    fig,ax = plt.subplots()\n",
    "    X_train.groupby(var)['target'].mean().plot.bar()\n",
    "    ax.set_title(var)\n",
    "    ax.set_ylabel('heart disease rate');"
   ]
  },
  {
   "cell_type": "code",
   "execution_count": 154,
   "metadata": {},
   "outputs": [],
   "source": [
    "# One hot encoding for cp'\n",
    "onehot_cp=pd.get_dummies(X_train['cp'], drop_first=True, prefix='cp')"
   ]
  },
  {
   "cell_type": "code",
   "execution_count": 155,
   "metadata": {},
   "outputs": [],
   "source": [
    "X_train = pd.concat([X_train, onehot_cp], axis=1)"
   ]
  },
  {
   "cell_type": "code",
   "execution_count": 156,
   "metadata": {},
   "outputs": [],
   "source": [
    "X_train.drop('cp', axis=1, inplace=True)"
   ]
  },
  {
   "cell_type": "code",
   "execution_count": 157,
   "metadata": {},
   "outputs": [
    {
     "data": {
      "text/plain": [
       "(270, 16)"
      ]
     },
     "execution_count": 157,
     "metadata": {},
     "output_type": "execute_result"
    }
   ],
   "source": [
    "X_train.shape"
   ]
  },
  {
   "cell_type": "code",
   "execution_count": 158,
   "metadata": {},
   "outputs": [
    {
     "data": {
      "text/plain": [
       "(31, 16)"
      ]
     },
     "execution_count": 158,
     "metadata": {},
     "output_type": "execute_result"
    }
   ],
   "source": [
    "onehot_cp=pd.get_dummies(X_test['cp'], drop_first=True, prefix='cp')\n",
    "X_test = pd.concat([X_test, onehot_cp], axis=1)\n",
    "X_test.drop('cp', axis=1, inplace=True)\n",
    "X_test.shape"
   ]
  },
  {
   "cell_type": "code",
   "execution_count": 159,
   "metadata": {},
   "outputs": [
    {
     "data": {
      "text/html": [
       "<div>\n",
       "<style scoped>\n",
       "    .dataframe tbody tr th:only-of-type {\n",
       "        vertical-align: middle;\n",
       "    }\n",
       "\n",
       "    .dataframe tbody tr th {\n",
       "        vertical-align: top;\n",
       "    }\n",
       "\n",
       "    .dataframe thead th {\n",
       "        text-align: right;\n",
       "    }\n",
       "</style>\n",
       "<table border=\"1\" class=\"dataframe\">\n",
       "  <thead>\n",
       "    <tr style=\"text-align: right;\">\n",
       "      <th></th>\n",
       "      <th>age</th>\n",
       "      <th>sex</th>\n",
       "      <th>trestbps</th>\n",
       "      <th>chol</th>\n",
       "      <th>fbs</th>\n",
       "      <th>restecg</th>\n",
       "      <th>thalach</th>\n",
       "      <th>exang</th>\n",
       "      <th>oldpeak</th>\n",
       "      <th>slope</th>\n",
       "      <th>ca</th>\n",
       "      <th>thal</th>\n",
       "      <th>target</th>\n",
       "      <th>cp_1</th>\n",
       "      <th>cp_2</th>\n",
       "      <th>cp_3</th>\n",
       "    </tr>\n",
       "  </thead>\n",
       "  <tbody>\n",
       "    <tr>\n",
       "      <th>13</th>\n",
       "      <td>64</td>\n",
       "      <td>1</td>\n",
       "      <td>110</td>\n",
       "      <td>211</td>\n",
       "      <td>0</td>\n",
       "      <td>1</td>\n",
       "      <td>144</td>\n",
       "      <td>1</td>\n",
       "      <td>1.8</td>\n",
       "      <td>0</td>\n",
       "      <td>3</td>\n",
       "      <td>2</td>\n",
       "      <td>1</td>\n",
       "      <td>0</td>\n",
       "      <td>0</td>\n",
       "      <td>1</td>\n",
       "    </tr>\n",
       "    <tr>\n",
       "      <th>176</th>\n",
       "      <td>60</td>\n",
       "      <td>1</td>\n",
       "      <td>117</td>\n",
       "      <td>230</td>\n",
       "      <td>1</td>\n",
       "      <td>2</td>\n",
       "      <td>160</td>\n",
       "      <td>1</td>\n",
       "      <td>1.4</td>\n",
       "      <td>2</td>\n",
       "      <td>1</td>\n",
       "      <td>0</td>\n",
       "      <td>0</td>\n",
       "      <td>0</td>\n",
       "      <td>0</td>\n",
       "      <td>0</td>\n",
       "    </tr>\n",
       "    <tr>\n",
       "      <th>171</th>\n",
       "      <td>48</td>\n",
       "      <td>1</td>\n",
       "      <td>110</td>\n",
       "      <td>229</td>\n",
       "      <td>0</td>\n",
       "      <td>2</td>\n",
       "      <td>168</td>\n",
       "      <td>0</td>\n",
       "      <td>1.0</td>\n",
       "      <td>1</td>\n",
       "      <td>3</td>\n",
       "      <td>0</td>\n",
       "      <td>0</td>\n",
       "      <td>1</td>\n",
       "      <td>0</td>\n",
       "      <td>0</td>\n",
       "    </tr>\n",
       "    <tr>\n",
       "      <th>128</th>\n",
       "      <td>52</td>\n",
       "      <td>0</td>\n",
       "      <td>136</td>\n",
       "      <td>196</td>\n",
       "      <td>0</td>\n",
       "      <td>1</td>\n",
       "      <td>169</td>\n",
       "      <td>0</td>\n",
       "      <td>0.1</td>\n",
       "      <td>0</td>\n",
       "      <td>3</td>\n",
       "      <td>2</td>\n",
       "      <td>1</td>\n",
       "      <td>0</td>\n",
       "      <td>1</td>\n",
       "      <td>0</td>\n",
       "    </tr>\n",
       "    <tr>\n",
       "      <th>119</th>\n",
       "      <td>46</td>\n",
       "      <td>0</td>\n",
       "      <td>138</td>\n",
       "      <td>243</td>\n",
       "      <td>0</td>\n",
       "      <td>1</td>\n",
       "      <td>152</td>\n",
       "      <td>1</td>\n",
       "      <td>0.0</td>\n",
       "      <td>0</td>\n",
       "      <td>3</td>\n",
       "      <td>2</td>\n",
       "      <td>1</td>\n",
       "      <td>0</td>\n",
       "      <td>0</td>\n",
       "      <td>0</td>\n",
       "    </tr>\n",
       "  </tbody>\n",
       "</table>\n",
       "</div>"
      ],
      "text/plain": [
       "     age  sex  trestbps  chol  fbs  restecg  thalach  exang  oldpeak  slope  \\\n",
       "13    64    1       110   211    0        1      144      1      1.8      0   \n",
       "176   60    1       117   230    1        2      160      1      1.4      2   \n",
       "171   48    1       110   229    0        2      168      0      1.0      1   \n",
       "128   52    0       136   196    0        1      169      0      0.1      0   \n",
       "119   46    0       138   243    0        1      152      1      0.0      0   \n",
       "\n",
       "     ca  thal  target  cp_1  cp_2  cp_3  \n",
       "13    3     2       1     0     0     1  \n",
       "176   1     0       0     0     0     0  \n",
       "171   3     0       0     1     0     0  \n",
       "128   3     2       1     0     1     0  \n",
       "119   3     2       1     0     0     0  "
      ]
     },
     "execution_count": 159,
     "metadata": {},
     "output_type": "execute_result"
    }
   ],
   "source": [
    "X_train.head()"
   ]
  },
  {
   "cell_type": "code",
   "execution_count": 160,
   "metadata": {},
   "outputs": [],
   "source": [
    "y_train = X_train['target']"
   ]
  },
  {
   "cell_type": "code",
   "execution_count": 161,
   "metadata": {},
   "outputs": [],
   "source": [
    "y_test = X_test['target']"
   ]
  },
  {
   "cell_type": "code",
   "execution_count": 162,
   "metadata": {},
   "outputs": [],
   "source": [
    "mapper = {1:'Heart disease', 0:'Healthy'}\n",
    "y_train = y_train.map(mapper)\n",
    "y_test = y_test.map(mapper)"
   ]
  },
  {
   "cell_type": "code",
   "execution_count": 163,
   "metadata": {},
   "outputs": [],
   "source": [
    "from sklearn.preprocessing import LabelBinarizer\n",
    "encoder = LabelBinarizer()\n",
    "y_train = encoder.fit_transform(y_train)\n",
    "y_test = encoder.fit_transform(y_test)"
   ]
  },
  {
   "cell_type": "code",
   "execution_count": 164,
   "metadata": {},
   "outputs": [],
   "source": [
    "X_train.drop('target', axis=1, inplace=True)"
   ]
  },
  {
   "cell_type": "code",
   "execution_count": 165,
   "metadata": {},
   "outputs": [],
   "source": [
    "X_test.drop('target', axis=1, inplace=True)"
   ]
  },
  {
   "cell_type": "code",
   "execution_count": 166,
   "metadata": {},
   "outputs": [],
   "source": [
    "from sklearn.preprocessing import MinMaxScaler\n",
    "scaler = MinMaxScaler()"
   ]
  },
  {
   "cell_type": "code",
   "execution_count": 167,
   "metadata": {},
   "outputs": [],
   "source": [
    "scaler.fit(X_train)\n",
    "scaled_X_train = scaler.transform(X_train)\n",
    "scaled_X_test = scaler.transform(X_test)"
   ]
  },
  {
   "cell_type": "code",
   "execution_count": 168,
   "metadata": {},
   "outputs": [],
   "source": [
    "scaled_X_train = pd.DataFrame(scaled_X_train, columns = X_train.columns)"
   ]
  },
  {
   "cell_type": "code",
   "execution_count": 169,
   "metadata": {},
   "outputs": [],
   "source": [
    "scaled_X_test = pd.DataFrame(scaled_X_test, columns = X_test.columns)"
   ]
  },
  {
   "cell_type": "code",
   "execution_count": null,
   "metadata": {},
   "outputs": [],
   "source": []
  },
  {
   "cell_type": "markdown",
   "metadata": {},
   "source": [
    "## Building model"
   ]
  },
  {
   "cell_type": "code",
   "execution_count": 170,
   "metadata": {},
   "outputs": [
    {
     "data": {
      "text/html": [
       "<div>\n",
       "<style scoped>\n",
       "    .dataframe tbody tr th:only-of-type {\n",
       "        vertical-align: middle;\n",
       "    }\n",
       "\n",
       "    .dataframe tbody tr th {\n",
       "        vertical-align: top;\n",
       "    }\n",
       "\n",
       "    .dataframe thead th {\n",
       "        text-align: right;\n",
       "    }\n",
       "</style>\n",
       "<table border=\"1\" class=\"dataframe\">\n",
       "  <thead>\n",
       "    <tr style=\"text-align: right;\">\n",
       "      <th></th>\n",
       "      <th>age</th>\n",
       "      <th>sex</th>\n",
       "      <th>trestbps</th>\n",
       "      <th>chol</th>\n",
       "      <th>fbs</th>\n",
       "      <th>restecg</th>\n",
       "      <th>thalach</th>\n",
       "      <th>exang</th>\n",
       "      <th>oldpeak</th>\n",
       "      <th>slope</th>\n",
       "      <th>ca</th>\n",
       "      <th>thal</th>\n",
       "      <th>cp_1</th>\n",
       "      <th>cp_2</th>\n",
       "      <th>cp_3</th>\n",
       "    </tr>\n",
       "  </thead>\n",
       "  <tbody>\n",
       "    <tr>\n",
       "      <th>13</th>\n",
       "      <td>64</td>\n",
       "      <td>1</td>\n",
       "      <td>110</td>\n",
       "      <td>211</td>\n",
       "      <td>0</td>\n",
       "      <td>1</td>\n",
       "      <td>144</td>\n",
       "      <td>1</td>\n",
       "      <td>1.8</td>\n",
       "      <td>0</td>\n",
       "      <td>3</td>\n",
       "      <td>2</td>\n",
       "      <td>0</td>\n",
       "      <td>0</td>\n",
       "      <td>1</td>\n",
       "    </tr>\n",
       "    <tr>\n",
       "      <th>176</th>\n",
       "      <td>60</td>\n",
       "      <td>1</td>\n",
       "      <td>117</td>\n",
       "      <td>230</td>\n",
       "      <td>1</td>\n",
       "      <td>2</td>\n",
       "      <td>160</td>\n",
       "      <td>1</td>\n",
       "      <td>1.4</td>\n",
       "      <td>2</td>\n",
       "      <td>1</td>\n",
       "      <td>0</td>\n",
       "      <td>0</td>\n",
       "      <td>0</td>\n",
       "      <td>0</td>\n",
       "    </tr>\n",
       "    <tr>\n",
       "      <th>171</th>\n",
       "      <td>48</td>\n",
       "      <td>1</td>\n",
       "      <td>110</td>\n",
       "      <td>229</td>\n",
       "      <td>0</td>\n",
       "      <td>2</td>\n",
       "      <td>168</td>\n",
       "      <td>0</td>\n",
       "      <td>1.0</td>\n",
       "      <td>1</td>\n",
       "      <td>3</td>\n",
       "      <td>0</td>\n",
       "      <td>1</td>\n",
       "      <td>0</td>\n",
       "      <td>0</td>\n",
       "    </tr>\n",
       "    <tr>\n",
       "      <th>128</th>\n",
       "      <td>52</td>\n",
       "      <td>0</td>\n",
       "      <td>136</td>\n",
       "      <td>196</td>\n",
       "      <td>0</td>\n",
       "      <td>1</td>\n",
       "      <td>169</td>\n",
       "      <td>0</td>\n",
       "      <td>0.1</td>\n",
       "      <td>0</td>\n",
       "      <td>3</td>\n",
       "      <td>2</td>\n",
       "      <td>0</td>\n",
       "      <td>1</td>\n",
       "      <td>0</td>\n",
       "    </tr>\n",
       "    <tr>\n",
       "      <th>119</th>\n",
       "      <td>46</td>\n",
       "      <td>0</td>\n",
       "      <td>138</td>\n",
       "      <td>243</td>\n",
       "      <td>0</td>\n",
       "      <td>1</td>\n",
       "      <td>152</td>\n",
       "      <td>1</td>\n",
       "      <td>0.0</td>\n",
       "      <td>0</td>\n",
       "      <td>3</td>\n",
       "      <td>2</td>\n",
       "      <td>0</td>\n",
       "      <td>0</td>\n",
       "      <td>0</td>\n",
       "    </tr>\n",
       "  </tbody>\n",
       "</table>\n",
       "</div>"
      ],
      "text/plain": [
       "     age  sex  trestbps  chol  fbs  restecg  thalach  exang  oldpeak  slope  \\\n",
       "13    64    1       110   211    0        1      144      1      1.8      0   \n",
       "176   60    1       117   230    1        2      160      1      1.4      2   \n",
       "171   48    1       110   229    0        2      168      0      1.0      1   \n",
       "128   52    0       136   196    0        1      169      0      0.1      0   \n",
       "119   46    0       138   243    0        1      152      1      0.0      0   \n",
       "\n",
       "     ca  thal  cp_1  cp_2  cp_3  \n",
       "13    3     2     0     0     1  \n",
       "176   1     0     0     0     0  \n",
       "171   3     0     1     0     0  \n",
       "128   3     2     0     1     0  \n",
       "119   3     2     0     0     0  "
      ]
     },
     "execution_count": 170,
     "metadata": {},
     "output_type": "execute_result"
    }
   ],
   "source": [
    "X_train.head()"
   ]
  },
  {
   "cell_type": "code",
   "execution_count": 171,
   "metadata": {},
   "outputs": [],
   "source": [
    "from tensorflow.keras.models import Sequential\n",
    "from tensorflow.keras.layers import Dense"
   ]
  },
  {
   "cell_type": "code",
   "execution_count": 172,
   "metadata": {},
   "outputs": [],
   "source": [
    "model = Sequential()\n",
    "model.add(Dense(units=8, activation='relu', input_shape=[15,]))\n",
    "model.add(Dense(units=1, activation='sigmoid'))\n",
    "\n",
    "model.compile(optimizer='adam', loss='binary_crossentropy', metrics=['accuracy'])\n"
   ]
  },
  {
   "cell_type": "code",
   "execution_count": 173,
   "metadata": {},
   "outputs": [],
   "source": [
    "from tensorflow.keras.callbacks import EarlyStopping"
   ]
  },
  {
   "cell_type": "code",
   "execution_count": 174,
   "metadata": {},
   "outputs": [],
   "source": [
    "early_stop=EarlyStopping(patience=10)\n"
   ]
  },
  {
   "cell_type": "code",
   "execution_count": 175,
   "metadata": {},
   "outputs": [
    {
     "name": "stdout",
     "output_type": "stream",
     "text": [
      "Epoch 1/300\n",
      "9/9 [==============================] - 0s 36ms/step - loss: 0.7685 - accuracy: 0.4481 - val_loss: 0.7543 - val_accuracy: 0.4839\n",
      "Epoch 2/300\n",
      "9/9 [==============================] - 0s 4ms/step - loss: 0.7480 - accuracy: 0.4481 - val_loss: 0.7339 - val_accuracy: 0.4516\n",
      "Epoch 3/300\n",
      "9/9 [==============================] - 0s 7ms/step - loss: 0.7273 - accuracy: 0.4778 - val_loss: 0.7180 - val_accuracy: 0.5161\n",
      "Epoch 4/300\n",
      "9/9 [==============================] - 0s 6ms/step - loss: 0.7110 - accuracy: 0.5148 - val_loss: 0.7039 - val_accuracy: 0.4839\n",
      "Epoch 5/300\n",
      "9/9 [==============================] - 0s 7ms/step - loss: 0.6974 - accuracy: 0.5370 - val_loss: 0.6911 - val_accuracy: 0.5806\n",
      "Epoch 6/300\n",
      "9/9 [==============================] - 0s 6ms/step - loss: 0.6840 - accuracy: 0.5889 - val_loss: 0.6795 - val_accuracy: 0.6452\n",
      "Epoch 7/300\n",
      "9/9 [==============================] - 0s 6ms/step - loss: 0.6727 - accuracy: 0.6333 - val_loss: 0.6676 - val_accuracy: 0.6452\n",
      "Epoch 8/300\n",
      "9/9 [==============================] - 0s 6ms/step - loss: 0.6618 - accuracy: 0.6667 - val_loss: 0.6562 - val_accuracy: 0.6774\n",
      "Epoch 9/300\n",
      "9/9 [==============================] - 0s 5ms/step - loss: 0.6520 - accuracy: 0.6778 - val_loss: 0.6458 - val_accuracy: 0.6774\n",
      "Epoch 10/300\n",
      "9/9 [==============================] - 0s 4ms/step - loss: 0.6425 - accuracy: 0.6667 - val_loss: 0.6352 - val_accuracy: 0.7097\n",
      "Epoch 11/300\n",
      "9/9 [==============================] - 0s 5ms/step - loss: 0.6333 - accuracy: 0.7000 - val_loss: 0.6243 - val_accuracy: 0.6774\n",
      "Epoch 12/300\n",
      "9/9 [==============================] - 0s 6ms/step - loss: 0.6243 - accuracy: 0.7185 - val_loss: 0.6126 - val_accuracy: 0.7419\n",
      "Epoch 13/300\n",
      "9/9 [==============================] - 0s 4ms/step - loss: 0.6143 - accuracy: 0.7222 - val_loss: 0.6009 - val_accuracy: 0.7742\n",
      "Epoch 14/300\n",
      "9/9 [==============================] - 0s 4ms/step - loss: 0.6047 - accuracy: 0.7481 - val_loss: 0.5884 - val_accuracy: 0.7742\n",
      "Epoch 15/300\n",
      "9/9 [==============================] - 0s 5ms/step - loss: 0.5938 - accuracy: 0.7556 - val_loss: 0.5751 - val_accuracy: 0.8065\n",
      "Epoch 16/300\n",
      "9/9 [==============================] - 0s 6ms/step - loss: 0.5825 - accuracy: 0.7630 - val_loss: 0.5611 - val_accuracy: 0.8387\n",
      "Epoch 17/300\n",
      "9/9 [==============================] - 0s 4ms/step - loss: 0.5715 - accuracy: 0.7704 - val_loss: 0.5473 - val_accuracy: 0.8387\n",
      "Epoch 18/300\n",
      "9/9 [==============================] - 0s 4ms/step - loss: 0.5608 - accuracy: 0.7815 - val_loss: 0.5341 - val_accuracy: 0.8387\n",
      "Epoch 19/300\n",
      "9/9 [==============================] - 0s 4ms/step - loss: 0.5496 - accuracy: 0.7852 - val_loss: 0.5219 - val_accuracy: 0.8387\n",
      "Epoch 20/300\n",
      "9/9 [==============================] - 0s 6ms/step - loss: 0.5395 - accuracy: 0.7852 - val_loss: 0.5088 - val_accuracy: 0.8387\n",
      "Epoch 21/300\n",
      "9/9 [==============================] - 0s 6ms/step - loss: 0.5296 - accuracy: 0.7815 - val_loss: 0.4963 - val_accuracy: 0.8710\n",
      "Epoch 22/300\n",
      "9/9 [==============================] - 0s 6ms/step - loss: 0.5200 - accuracy: 0.7815 - val_loss: 0.4852 - val_accuracy: 0.8387\n",
      "Epoch 23/300\n",
      "9/9 [==============================] - 0s 4ms/step - loss: 0.5116 - accuracy: 0.7889 - val_loss: 0.4745 - val_accuracy: 0.8387\n",
      "Epoch 24/300\n",
      "9/9 [==============================] - 0s 5ms/step - loss: 0.5036 - accuracy: 0.7889 - val_loss: 0.4641 - val_accuracy: 0.8387\n",
      "Epoch 25/300\n",
      "9/9 [==============================] - 0s 5ms/step - loss: 0.4960 - accuracy: 0.7963 - val_loss: 0.4547 - val_accuracy: 0.8387\n",
      "Epoch 26/300\n",
      "9/9 [==============================] - 0s 5ms/step - loss: 0.4887 - accuracy: 0.8000 - val_loss: 0.4458 - val_accuracy: 0.8387\n",
      "Epoch 27/300\n",
      "9/9 [==============================] - 0s 4ms/step - loss: 0.4824 - accuracy: 0.8037 - val_loss: 0.4368 - val_accuracy: 0.8710\n",
      "Epoch 28/300\n",
      "9/9 [==============================] - 0s 4ms/step - loss: 0.4757 - accuracy: 0.8000 - val_loss: 0.4306 - val_accuracy: 0.8387\n",
      "Epoch 29/300\n",
      "9/9 [==============================] - 0s 4ms/step - loss: 0.4700 - accuracy: 0.8037 - val_loss: 0.4232 - val_accuracy: 0.8387\n",
      "Epoch 30/300\n",
      "9/9 [==============================] - 0s 4ms/step - loss: 0.4641 - accuracy: 0.8037 - val_loss: 0.4167 - val_accuracy: 0.8387\n",
      "Epoch 31/300\n",
      "9/9 [==============================] - 0s 4ms/step - loss: 0.4592 - accuracy: 0.8074 - val_loss: 0.4108 - val_accuracy: 0.8387\n",
      "Epoch 32/300\n",
      "9/9 [==============================] - 0s 5ms/step - loss: 0.4542 - accuracy: 0.8037 - val_loss: 0.4053 - val_accuracy: 0.8387\n",
      "Epoch 33/300\n",
      "9/9 [==============================] - 0s 4ms/step - loss: 0.4498 - accuracy: 0.7963 - val_loss: 0.3982 - val_accuracy: 0.8387\n",
      "Epoch 34/300\n",
      "9/9 [==============================] - 0s 4ms/step - loss: 0.4452 - accuracy: 0.8000 - val_loss: 0.3919 - val_accuracy: 0.8387\n",
      "Epoch 35/300\n",
      "9/9 [==============================] - 0s 4ms/step - loss: 0.4416 - accuracy: 0.7963 - val_loss: 0.3861 - val_accuracy: 0.8387\n",
      "Epoch 36/300\n",
      "9/9 [==============================] - 0s 4ms/step - loss: 0.4368 - accuracy: 0.7963 - val_loss: 0.3821 - val_accuracy: 0.8387\n",
      "Epoch 37/300\n",
      "9/9 [==============================] - 0s 5ms/step - loss: 0.4333 - accuracy: 0.8000 - val_loss: 0.3775 - val_accuracy: 0.8387\n",
      "Epoch 38/300\n",
      "9/9 [==============================] - 0s 5ms/step - loss: 0.4295 - accuracy: 0.8000 - val_loss: 0.3731 - val_accuracy: 0.8387\n",
      "Epoch 39/300\n",
      "9/9 [==============================] - 0s 5ms/step - loss: 0.4264 - accuracy: 0.8000 - val_loss: 0.3686 - val_accuracy: 0.8387\n",
      "Epoch 40/300\n",
      "9/9 [==============================] - 0s 5ms/step - loss: 0.4230 - accuracy: 0.8037 - val_loss: 0.3655 - val_accuracy: 0.8387\n",
      "Epoch 41/300\n",
      "9/9 [==============================] - 0s 5ms/step - loss: 0.4203 - accuracy: 0.8074 - val_loss: 0.3617 - val_accuracy: 0.8387\n",
      "Epoch 42/300\n",
      "9/9 [==============================] - 0s 4ms/step - loss: 0.4173 - accuracy: 0.8074 - val_loss: 0.3573 - val_accuracy: 0.8387\n",
      "Epoch 43/300\n",
      "9/9 [==============================] - 0s 4ms/step - loss: 0.4149 - accuracy: 0.8037 - val_loss: 0.3518 - val_accuracy: 0.8710\n",
      "Epoch 44/300\n",
      "9/9 [==============================] - 0s 4ms/step - loss: 0.4121 - accuracy: 0.8074 - val_loss: 0.3495 - val_accuracy: 0.8710\n",
      "Epoch 45/300\n",
      "9/9 [==============================] - 0s 4ms/step - loss: 0.4098 - accuracy: 0.8074 - val_loss: 0.3475 - val_accuracy: 0.8387\n",
      "Epoch 46/300\n",
      "9/9 [==============================] - 0s 4ms/step - loss: 0.4079 - accuracy: 0.8074 - val_loss: 0.3450 - val_accuracy: 0.8710\n",
      "Epoch 47/300\n",
      "9/9 [==============================] - 0s 4ms/step - loss: 0.4051 - accuracy: 0.8074 - val_loss: 0.3416 - val_accuracy: 0.8710\n",
      "Epoch 48/300\n",
      "9/9 [==============================] - 0s 4ms/step - loss: 0.4029 - accuracy: 0.8111 - val_loss: 0.3392 - val_accuracy: 0.8710\n",
      "Epoch 49/300\n",
      "9/9 [==============================] - 0s 4ms/step - loss: 0.4011 - accuracy: 0.8111 - val_loss: 0.3363 - val_accuracy: 0.8710\n",
      "Epoch 50/300\n",
      "9/9 [==============================] - 0s 4ms/step - loss: 0.3995 - accuracy: 0.8111 - val_loss: 0.3335 - val_accuracy: 0.8710\n",
      "Epoch 51/300\n",
      "9/9 [==============================] - 0s 4ms/step - loss: 0.3973 - accuracy: 0.8111 - val_loss: 0.3334 - val_accuracy: 0.8710\n",
      "Epoch 52/300\n",
      "9/9 [==============================] - 0s 5ms/step - loss: 0.3957 - accuracy: 0.8148 - val_loss: 0.3319 - val_accuracy: 0.8710\n",
      "Epoch 53/300\n",
      "9/9 [==============================] - 0s 4ms/step - loss: 0.3942 - accuracy: 0.8148 - val_loss: 0.3293 - val_accuracy: 0.8710\n",
      "Epoch 54/300\n",
      "9/9 [==============================] - 0s 5ms/step - loss: 0.3924 - accuracy: 0.8148 - val_loss: 0.3272 - val_accuracy: 0.8710\n",
      "Epoch 55/300\n",
      "9/9 [==============================] - 0s 4ms/step - loss: 0.3909 - accuracy: 0.8148 - val_loss: 0.3248 - val_accuracy: 0.8710\n",
      "Epoch 56/300\n",
      "9/9 [==============================] - 0s 5ms/step - loss: 0.3902 - accuracy: 0.8259 - val_loss: 0.3210 - val_accuracy: 0.8710\n",
      "Epoch 57/300\n",
      "9/9 [==============================] - 0s 4ms/step - loss: 0.3881 - accuracy: 0.8259 - val_loss: 0.3201 - val_accuracy: 0.8710\n",
      "Epoch 58/300\n",
      "9/9 [==============================] - 0s 4ms/step - loss: 0.3871 - accuracy: 0.8259 - val_loss: 0.3206 - val_accuracy: 0.8710\n",
      "Epoch 59/300\n"
     ]
    },
    {
     "name": "stdout",
     "output_type": "stream",
     "text": [
      "9/9 [==============================] - 0s 5ms/step - loss: 0.3862 - accuracy: 0.8296 - val_loss: 0.3176 - val_accuracy: 0.8710\n",
      "Epoch 60/300\n",
      "9/9 [==============================] - 0s 5ms/step - loss: 0.3846 - accuracy: 0.8296 - val_loss: 0.3169 - val_accuracy: 0.8710\n",
      "Epoch 61/300\n",
      "9/9 [==============================] - 0s 5ms/step - loss: 0.3839 - accuracy: 0.8296 - val_loss: 0.3145 - val_accuracy: 0.8710\n",
      "Epoch 62/300\n",
      "9/9 [==============================] - 0s 5ms/step - loss: 0.3824 - accuracy: 0.8296 - val_loss: 0.3147 - val_accuracy: 0.8710\n",
      "Epoch 63/300\n",
      "9/9 [==============================] - 0s 6ms/step - loss: 0.3813 - accuracy: 0.8222 - val_loss: 0.3138 - val_accuracy: 0.8710\n",
      "Epoch 64/300\n",
      "9/9 [==============================] - 0s 5ms/step - loss: 0.3806 - accuracy: 0.8296 - val_loss: 0.3103 - val_accuracy: 0.8710\n",
      "Epoch 65/300\n",
      "9/9 [==============================] - 0s 6ms/step - loss: 0.3793 - accuracy: 0.8296 - val_loss: 0.3097 - val_accuracy: 0.8710\n",
      "Epoch 66/300\n",
      "9/9 [==============================] - 0s 7ms/step - loss: 0.3783 - accuracy: 0.8259 - val_loss: 0.3091 - val_accuracy: 0.8710\n",
      "Epoch 67/300\n",
      "9/9 [==============================] - 0s 5ms/step - loss: 0.3773 - accuracy: 0.8259 - val_loss: 0.3077 - val_accuracy: 0.8710\n",
      "Epoch 68/300\n",
      "9/9 [==============================] - 0s 6ms/step - loss: 0.3764 - accuracy: 0.8259 - val_loss: 0.3068 - val_accuracy: 0.8710\n",
      "Epoch 69/300\n",
      "9/9 [==============================] - 0s 6ms/step - loss: 0.3756 - accuracy: 0.8259 - val_loss: 0.3052 - val_accuracy: 0.8710\n",
      "Epoch 70/300\n",
      "9/9 [==============================] - 0s 4ms/step - loss: 0.3745 - accuracy: 0.8259 - val_loss: 0.3042 - val_accuracy: 0.8710\n",
      "Epoch 71/300\n",
      "9/9 [==============================] - 0s 4ms/step - loss: 0.3736 - accuracy: 0.8296 - val_loss: 0.3043 - val_accuracy: 0.8710\n",
      "Epoch 72/300\n",
      "9/9 [==============================] - 0s 5ms/step - loss: 0.3731 - accuracy: 0.8296 - val_loss: 0.3045 - val_accuracy: 0.8710\n",
      "Epoch 73/300\n",
      "9/9 [==============================] - 0s 4ms/step - loss: 0.3720 - accuracy: 0.8296 - val_loss: 0.3019 - val_accuracy: 0.8710\n",
      "Epoch 74/300\n",
      "9/9 [==============================] - 0s 4ms/step - loss: 0.3712 - accuracy: 0.8333 - val_loss: 0.2997 - val_accuracy: 0.8710\n",
      "Epoch 75/300\n",
      "9/9 [==============================] - 0s 5ms/step - loss: 0.3714 - accuracy: 0.8333 - val_loss: 0.2960 - val_accuracy: 0.8710\n",
      "Epoch 76/300\n",
      "9/9 [==============================] - 0s 5ms/step - loss: 0.3695 - accuracy: 0.8296 - val_loss: 0.2962 - val_accuracy: 0.8710\n",
      "Epoch 77/300\n",
      "9/9 [==============================] - 0s 6ms/step - loss: 0.3684 - accuracy: 0.8333 - val_loss: 0.2985 - val_accuracy: 0.8710\n",
      "Epoch 78/300\n",
      "9/9 [==============================] - 0s 6ms/step - loss: 0.3685 - accuracy: 0.8370 - val_loss: 0.2991 - val_accuracy: 0.8710\n",
      "Epoch 79/300\n",
      "9/9 [==============================] - 0s 5ms/step - loss: 0.3677 - accuracy: 0.8333 - val_loss: 0.2965 - val_accuracy: 0.8710\n",
      "Epoch 80/300\n",
      "9/9 [==============================] - 0s 5ms/step - loss: 0.3669 - accuracy: 0.8407 - val_loss: 0.2933 - val_accuracy: 0.8710\n",
      "Epoch 81/300\n",
      "9/9 [==============================] - 0s 5ms/step - loss: 0.3666 - accuracy: 0.8296 - val_loss: 0.2905 - val_accuracy: 0.8710\n",
      "Epoch 82/300\n",
      "9/9 [==============================] - 0s 5ms/step - loss: 0.3657 - accuracy: 0.8333 - val_loss: 0.2917 - val_accuracy: 0.8710\n",
      "Epoch 83/300\n",
      "9/9 [==============================] - 0s 5ms/step - loss: 0.3651 - accuracy: 0.8370 - val_loss: 0.2913 - val_accuracy: 0.8710\n",
      "Epoch 84/300\n",
      "9/9 [==============================] - 0s 5ms/step - loss: 0.3644 - accuracy: 0.8370 - val_loss: 0.2898 - val_accuracy: 0.8710\n",
      "Epoch 85/300\n",
      "9/9 [==============================] - 0s 6ms/step - loss: 0.3639 - accuracy: 0.8333 - val_loss: 0.2887 - val_accuracy: 0.8710\n",
      "Epoch 86/300\n",
      "9/9 [==============================] - 0s 4ms/step - loss: 0.3630 - accuracy: 0.8333 - val_loss: 0.2889 - val_accuracy: 0.8710\n",
      "Epoch 87/300\n",
      "9/9 [==============================] - 0s 6ms/step - loss: 0.3630 - accuracy: 0.8407 - val_loss: 0.2899 - val_accuracy: 0.8710\n",
      "Epoch 88/300\n",
      "9/9 [==============================] - 0s 6ms/step - loss: 0.3622 - accuracy: 0.8407 - val_loss: 0.2892 - val_accuracy: 0.8710\n",
      "Epoch 89/300\n",
      "9/9 [==============================] - 0s 4ms/step - loss: 0.3615 - accuracy: 0.8370 - val_loss: 0.2870 - val_accuracy: 0.8710\n",
      "Epoch 90/300\n",
      "9/9 [==============================] - 0s 4ms/step - loss: 0.3610 - accuracy: 0.8370 - val_loss: 0.2857 - val_accuracy: 0.8710\n",
      "Epoch 91/300\n",
      "9/9 [==============================] - 0s 4ms/step - loss: 0.3605 - accuracy: 0.8407 - val_loss: 0.2847 - val_accuracy: 0.8710\n",
      "Epoch 92/300\n",
      "9/9 [==============================] - 0s 4ms/step - loss: 0.3598 - accuracy: 0.8407 - val_loss: 0.2832 - val_accuracy: 0.8710\n",
      "Epoch 93/300\n",
      "9/9 [==============================] - 0s 4ms/step - loss: 0.3595 - accuracy: 0.8407 - val_loss: 0.2838 - val_accuracy: 0.8710\n",
      "Epoch 94/300\n",
      "9/9 [==============================] - 0s 5ms/step - loss: 0.3589 - accuracy: 0.8407 - val_loss: 0.2827 - val_accuracy: 0.8710\n",
      "Epoch 95/300\n",
      "9/9 [==============================] - 0s 6ms/step - loss: 0.3585 - accuracy: 0.8407 - val_loss: 0.2815 - val_accuracy: 0.8710\n",
      "Epoch 96/300\n",
      "9/9 [==============================] - 0s 5ms/step - loss: 0.3581 - accuracy: 0.8407 - val_loss: 0.2825 - val_accuracy: 0.8710\n",
      "Epoch 97/300\n",
      "9/9 [==============================] - 0s 5ms/step - loss: 0.3577 - accuracy: 0.8407 - val_loss: 0.2800 - val_accuracy: 0.8710\n",
      "Epoch 98/300\n",
      "9/9 [==============================] - 0s 5ms/step - loss: 0.3568 - accuracy: 0.8407 - val_loss: 0.2796 - val_accuracy: 0.8710\n",
      "Epoch 99/300\n",
      "9/9 [==============================] - 0s 4ms/step - loss: 0.3567 - accuracy: 0.8407 - val_loss: 0.2800 - val_accuracy: 0.8710\n",
      "Epoch 100/300\n",
      "9/9 [==============================] - 0s 4ms/step - loss: 0.3561 - accuracy: 0.8407 - val_loss: 0.2789 - val_accuracy: 0.8710\n",
      "Epoch 101/300\n",
      "9/9 [==============================] - 0s 4ms/step - loss: 0.3554 - accuracy: 0.8407 - val_loss: 0.2775 - val_accuracy: 0.8710\n",
      "Epoch 102/300\n",
      "9/9 [==============================] - 0s 5ms/step - loss: 0.3551 - accuracy: 0.8444 - val_loss: 0.2765 - val_accuracy: 0.8710\n",
      "Epoch 103/300\n",
      "9/9 [==============================] - 0s 5ms/step - loss: 0.3546 - accuracy: 0.8444 - val_loss: 0.2771 - val_accuracy: 0.8710\n",
      "Epoch 104/300\n",
      "9/9 [==============================] - 0s 5ms/step - loss: 0.3546 - accuracy: 0.8444 - val_loss: 0.2756 - val_accuracy: 0.8710\n",
      "Epoch 105/300\n",
      "9/9 [==============================] - 0s 4ms/step - loss: 0.3537 - accuracy: 0.8444 - val_loss: 0.2758 - val_accuracy: 0.8710\n",
      "Epoch 106/300\n",
      "9/9 [==============================] - 0s 5ms/step - loss: 0.3539 - accuracy: 0.8407 - val_loss: 0.2785 - val_accuracy: 0.8710\n",
      "Epoch 107/300\n",
      "9/9 [==============================] - 0s 5ms/step - loss: 0.3534 - accuracy: 0.8407 - val_loss: 0.2782 - val_accuracy: 0.8710\n",
      "Epoch 108/300\n",
      "9/9 [==============================] - 0s 5ms/step - loss: 0.3529 - accuracy: 0.8407 - val_loss: 0.2758 - val_accuracy: 0.8710\n",
      "Epoch 109/300\n",
      "9/9 [==============================] - 0s 5ms/step - loss: 0.3522 - accuracy: 0.8444 - val_loss: 0.2736 - val_accuracy: 0.8710\n",
      "Epoch 110/300\n",
      "9/9 [==============================] - 0s 4ms/step - loss: 0.3523 - accuracy: 0.8444 - val_loss: 0.2739 - val_accuracy: 0.8710\n",
      "Epoch 111/300\n",
      "9/9 [==============================] - 0s 4ms/step - loss: 0.3513 - accuracy: 0.8444 - val_loss: 0.2724 - val_accuracy: 0.8710\n",
      "Epoch 112/300\n",
      "9/9 [==============================] - 0s 4ms/step - loss: 0.3510 - accuracy: 0.8444 - val_loss: 0.2721 - val_accuracy: 0.8710\n",
      "Epoch 113/300\n",
      "9/9 [==============================] - 0s 6ms/step - loss: 0.3506 - accuracy: 0.8444 - val_loss: 0.2714 - val_accuracy: 0.8710\n",
      "Epoch 114/300\n",
      "9/9 [==============================] - 0s 6ms/step - loss: 0.3503 - accuracy: 0.8444 - val_loss: 0.2701 - val_accuracy: 0.8710\n",
      "Epoch 115/300\n",
      "9/9 [==============================] - 0s 6ms/step - loss: 0.3503 - accuracy: 0.8444 - val_loss: 0.2707 - val_accuracy: 0.8710\n",
      "Epoch 116/300\n",
      "9/9 [==============================] - 0s 5ms/step - loss: 0.3496 - accuracy: 0.8444 - val_loss: 0.2686 - val_accuracy: 0.8710\n",
      "Epoch 117/300\n"
     ]
    },
    {
     "name": "stdout",
     "output_type": "stream",
     "text": [
      "9/9 [==============================] - 0s 5ms/step - loss: 0.3493 - accuracy: 0.8444 - val_loss: 0.2685 - val_accuracy: 0.8710\n",
      "Epoch 118/300\n",
      "9/9 [==============================] - 0s 6ms/step - loss: 0.3489 - accuracy: 0.8444 - val_loss: 0.2689 - val_accuracy: 0.8710\n",
      "Epoch 119/300\n",
      "9/9 [==============================] - 0s 5ms/step - loss: 0.3485 - accuracy: 0.8444 - val_loss: 0.2696 - val_accuracy: 0.8710\n",
      "Epoch 120/300\n",
      "9/9 [==============================] - 0s 5ms/step - loss: 0.3484 - accuracy: 0.8481 - val_loss: 0.2711 - val_accuracy: 0.8710\n",
      "Epoch 121/300\n",
      "9/9 [==============================] - 0s 6ms/step - loss: 0.3480 - accuracy: 0.8481 - val_loss: 0.2711 - val_accuracy: 0.8710\n",
      "Epoch 122/300\n",
      "9/9 [==============================] - 0s 7ms/step - loss: 0.3479 - accuracy: 0.8481 - val_loss: 0.2693 - val_accuracy: 0.8710\n",
      "Epoch 123/300\n",
      "9/9 [==============================] - 0s 5ms/step - loss: 0.3472 - accuracy: 0.8481 - val_loss: 0.2685 - val_accuracy: 0.8710\n",
      "Epoch 124/300\n",
      "9/9 [==============================] - 0s 5ms/step - loss: 0.3470 - accuracy: 0.8481 - val_loss: 0.2682 - val_accuracy: 0.8710\n",
      "Epoch 125/300\n",
      "9/9 [==============================] - 0s 4ms/step - loss: 0.3475 - accuracy: 0.8444 - val_loss: 0.2659 - val_accuracy: 0.8710\n",
      "Epoch 126/300\n",
      "9/9 [==============================] - 0s 5ms/step - loss: 0.3464 - accuracy: 0.8481 - val_loss: 0.2677 - val_accuracy: 0.8710\n",
      "Epoch 127/300\n",
      "9/9 [==============================] - 0s 6ms/step - loss: 0.3460 - accuracy: 0.8481 - val_loss: 0.2671 - val_accuracy: 0.8710\n",
      "Epoch 128/300\n",
      "9/9 [==============================] - 0s 6ms/step - loss: 0.3459 - accuracy: 0.8481 - val_loss: 0.2679 - val_accuracy: 0.8710\n",
      "Epoch 129/300\n",
      "9/9 [==============================] - 0s 5ms/step - loss: 0.3457 - accuracy: 0.8481 - val_loss: 0.2663 - val_accuracy: 0.8710\n",
      "Epoch 130/300\n",
      "9/9 [==============================] - 0s 4ms/step - loss: 0.3451 - accuracy: 0.8481 - val_loss: 0.2653 - val_accuracy: 0.8710\n",
      "Epoch 131/300\n",
      "9/9 [==============================] - 0s 6ms/step - loss: 0.3448 - accuracy: 0.8481 - val_loss: 0.2641 - val_accuracy: 0.8710\n",
      "Epoch 132/300\n",
      "9/9 [==============================] - 0s 5ms/step - loss: 0.3445 - accuracy: 0.8444 - val_loss: 0.2641 - val_accuracy: 0.9032\n",
      "Epoch 133/300\n",
      "9/9 [==============================] - 0s 5ms/step - loss: 0.3444 - accuracy: 0.8481 - val_loss: 0.2652 - val_accuracy: 0.8710\n",
      "Epoch 134/300\n",
      "9/9 [==============================] - 0s 5ms/step - loss: 0.3442 - accuracy: 0.8481 - val_loss: 0.2652 - val_accuracy: 0.8710\n",
      "Epoch 135/300\n",
      "9/9 [==============================] - 0s 5ms/step - loss: 0.3437 - accuracy: 0.8481 - val_loss: 0.2649 - val_accuracy: 0.8710\n",
      "Epoch 136/300\n",
      "9/9 [==============================] - 0s 5ms/step - loss: 0.3435 - accuracy: 0.8444 - val_loss: 0.2625 - val_accuracy: 0.9032\n",
      "Epoch 137/300\n",
      "9/9 [==============================] - 0s 5ms/step - loss: 0.3432 - accuracy: 0.8444 - val_loss: 0.2616 - val_accuracy: 0.9032\n",
      "Epoch 138/300\n",
      "9/9 [==============================] - 0s 7ms/step - loss: 0.3431 - accuracy: 0.8481 - val_loss: 0.2627 - val_accuracy: 0.9032\n",
      "Epoch 139/300\n",
      "9/9 [==============================] - 0s 4ms/step - loss: 0.3427 - accuracy: 0.8481 - val_loss: 0.2633 - val_accuracy: 0.9032\n",
      "Epoch 140/300\n",
      "9/9 [==============================] - 0s 4ms/step - loss: 0.3425 - accuracy: 0.8519 - val_loss: 0.2627 - val_accuracy: 0.9032\n",
      "Epoch 141/300\n",
      "9/9 [==============================] - 0s 4ms/step - loss: 0.3424 - accuracy: 0.8481 - val_loss: 0.2617 - val_accuracy: 0.9032\n",
      "Epoch 142/300\n",
      "9/9 [==============================] - 0s 5ms/step - loss: 0.3419 - accuracy: 0.8444 - val_loss: 0.2625 - val_accuracy: 0.9032\n",
      "Epoch 143/300\n",
      "9/9 [==============================] - 0s 4ms/step - loss: 0.3416 - accuracy: 0.8481 - val_loss: 0.2614 - val_accuracy: 0.9032\n",
      "Epoch 144/300\n",
      "9/9 [==============================] - 0s 4ms/step - loss: 0.3414 - accuracy: 0.8444 - val_loss: 0.2615 - val_accuracy: 0.9032\n",
      "Epoch 145/300\n",
      "9/9 [==============================] - 0s 4ms/step - loss: 0.3411 - accuracy: 0.8481 - val_loss: 0.2606 - val_accuracy: 0.9032\n",
      "Epoch 146/300\n",
      "9/9 [==============================] - 0s 5ms/step - loss: 0.3410 - accuracy: 0.8444 - val_loss: 0.2586 - val_accuracy: 0.9032\n",
      "Epoch 147/300\n",
      "9/9 [==============================] - 0s 5ms/step - loss: 0.3408 - accuracy: 0.8444 - val_loss: 0.2579 - val_accuracy: 0.9032\n",
      "Epoch 148/300\n",
      "9/9 [==============================] - 0s 6ms/step - loss: 0.3403 - accuracy: 0.8444 - val_loss: 0.2585 - val_accuracy: 0.9032\n",
      "Epoch 149/300\n",
      "9/9 [==============================] - 0s 7ms/step - loss: 0.3403 - accuracy: 0.8444 - val_loss: 0.2580 - val_accuracy: 0.9032\n",
      "Epoch 150/300\n",
      "9/9 [==============================] - 0s 5ms/step - loss: 0.3398 - accuracy: 0.8444 - val_loss: 0.2595 - val_accuracy: 0.9032\n",
      "Epoch 151/300\n",
      "9/9 [==============================] - 0s 4ms/step - loss: 0.3397 - accuracy: 0.8481 - val_loss: 0.2603 - val_accuracy: 0.9032\n",
      "Epoch 152/300\n",
      "9/9 [==============================] - 0s 5ms/step - loss: 0.3396 - accuracy: 0.8519 - val_loss: 0.2602 - val_accuracy: 0.9032\n",
      "Epoch 153/300\n",
      "9/9 [==============================] - 0s 4ms/step - loss: 0.3400 - accuracy: 0.8444 - val_loss: 0.2582 - val_accuracy: 0.9032\n",
      "Epoch 154/300\n",
      "9/9 [==============================] - 0s 4ms/step - loss: 0.3389 - accuracy: 0.8444 - val_loss: 0.2587 - val_accuracy: 0.9032\n",
      "Epoch 155/300\n",
      "9/9 [==============================] - 0s 6ms/step - loss: 0.3389 - accuracy: 0.8444 - val_loss: 0.2590 - val_accuracy: 0.9032\n",
      "Epoch 156/300\n",
      "9/9 [==============================] - 0s 5ms/step - loss: 0.3386 - accuracy: 0.8481 - val_loss: 0.2593 - val_accuracy: 0.9032\n",
      "Epoch 157/300\n",
      "9/9 [==============================] - 0s 5ms/step - loss: 0.3386 - accuracy: 0.8481 - val_loss: 0.2577 - val_accuracy: 0.9032\n",
      "Epoch 158/300\n",
      "9/9 [==============================] - 0s 6ms/step - loss: 0.3385 - accuracy: 0.8481 - val_loss: 0.2574 - val_accuracy: 0.9032\n",
      "Epoch 159/300\n",
      "9/9 [==============================] - 0s 6ms/step - loss: 0.3382 - accuracy: 0.8444 - val_loss: 0.2580 - val_accuracy: 0.9032\n",
      "Epoch 160/300\n",
      "9/9 [==============================] - 0s 6ms/step - loss: 0.3378 - accuracy: 0.8481 - val_loss: 0.2583 - val_accuracy: 0.9032\n",
      "Epoch 161/300\n",
      "9/9 [==============================] - 0s 6ms/step - loss: 0.3377 - accuracy: 0.8519 - val_loss: 0.2572 - val_accuracy: 0.9032\n",
      "Epoch 162/300\n",
      "9/9 [==============================] - 0s 6ms/step - loss: 0.3379 - accuracy: 0.8519 - val_loss: 0.2541 - val_accuracy: 0.9032\n",
      "Epoch 163/300\n",
      "9/9 [==============================] - 0s 5ms/step - loss: 0.3375 - accuracy: 0.8481 - val_loss: 0.2553 - val_accuracy: 0.9032\n",
      "Epoch 164/300\n",
      "9/9 [==============================] - 0s 5ms/step - loss: 0.3372 - accuracy: 0.8481 - val_loss: 0.2551 - val_accuracy: 0.9032\n",
      "Epoch 165/300\n",
      "9/9 [==============================] - 0s 5ms/step - loss: 0.3377 - accuracy: 0.8519 - val_loss: 0.2566 - val_accuracy: 0.9032\n",
      "Epoch 166/300\n",
      "9/9 [==============================] - 0s 5ms/step - loss: 0.3365 - accuracy: 0.8481 - val_loss: 0.2547 - val_accuracy: 0.9032\n",
      "Epoch 167/300\n",
      "9/9 [==============================] - 0s 7ms/step - loss: 0.3369 - accuracy: 0.8481 - val_loss: 0.2530 - val_accuracy: 0.9032\n",
      "Epoch 168/300\n",
      "9/9 [==============================] - 0s 5ms/step - loss: 0.3363 - accuracy: 0.8481 - val_loss: 0.2531 - val_accuracy: 0.9032\n",
      "Epoch 169/300\n",
      "9/9 [==============================] - 0s 5ms/step - loss: 0.3361 - accuracy: 0.8481 - val_loss: 0.2532 - val_accuracy: 0.9032\n",
      "Epoch 170/300\n",
      "9/9 [==============================] - 0s 4ms/step - loss: 0.3358 - accuracy: 0.8481 - val_loss: 0.2536 - val_accuracy: 0.9032\n",
      "Epoch 171/300\n",
      "9/9 [==============================] - 0s 5ms/step - loss: 0.3359 - accuracy: 0.8519 - val_loss: 0.2540 - val_accuracy: 0.9032\n",
      "Epoch 172/300\n",
      "9/9 [==============================] - 0s 4ms/step - loss: 0.3356 - accuracy: 0.8481 - val_loss: 0.2519 - val_accuracy: 0.9032\n",
      "Epoch 173/300\n",
      "9/9 [==============================] - 0s 5ms/step - loss: 0.3356 - accuracy: 0.8481 - val_loss: 0.2522 - val_accuracy: 0.9032\n",
      "Epoch 174/300\n",
      "9/9 [==============================] - 0s 5ms/step - loss: 0.3355 - accuracy: 0.8481 - val_loss: 0.2505 - val_accuracy: 0.9355\n",
      "Epoch 175/300\n"
     ]
    },
    {
     "name": "stdout",
     "output_type": "stream",
     "text": [
      "9/9 [==============================] - 0s 5ms/step - loss: 0.3351 - accuracy: 0.8481 - val_loss: 0.2515 - val_accuracy: 0.9032\n",
      "Epoch 176/300\n",
      "9/9 [==============================] - 0s 7ms/step - loss: 0.3353 - accuracy: 0.8481 - val_loss: 0.2530 - val_accuracy: 0.9032\n",
      "Epoch 177/300\n",
      "9/9 [==============================] - 0s 4ms/step - loss: 0.3351 - accuracy: 0.8519 - val_loss: 0.2519 - val_accuracy: 0.9032\n",
      "Epoch 178/300\n",
      "9/9 [==============================] - 0s 5ms/step - loss: 0.3349 - accuracy: 0.8556 - val_loss: 0.2529 - val_accuracy: 0.9032\n",
      "Epoch 179/300\n",
      "9/9 [==============================] - 0s 4ms/step - loss: 0.3346 - accuracy: 0.8556 - val_loss: 0.2521 - val_accuracy: 0.9032\n",
      "Epoch 180/300\n",
      "9/9 [==============================] - 0s 5ms/step - loss: 0.3346 - accuracy: 0.8481 - val_loss: 0.2511 - val_accuracy: 0.9032\n",
      "Epoch 181/300\n",
      "9/9 [==============================] - 0s 6ms/step - loss: 0.3345 - accuracy: 0.8481 - val_loss: 0.2513 - val_accuracy: 0.9032\n",
      "Epoch 182/300\n",
      "9/9 [==============================] - 0s 4ms/step - loss: 0.3343 - accuracy: 0.8519 - val_loss: 0.2532 - val_accuracy: 0.9032\n",
      "Epoch 183/300\n",
      "9/9 [==============================] - 0s 5ms/step - loss: 0.3339 - accuracy: 0.8556 - val_loss: 0.2522 - val_accuracy: 0.9032\n",
      "Epoch 184/300\n",
      "9/9 [==============================] - 0s 4ms/step - loss: 0.3343 - accuracy: 0.8519 - val_loss: 0.2529 - val_accuracy: 0.9032\n"
     ]
    },
    {
     "data": {
      "text/plain": [
       "<tensorflow.python.keras.callbacks.History at 0x2079d1a9b20>"
      ]
     },
     "execution_count": 175,
     "metadata": {},
     "output_type": "execute_result"
    }
   ],
   "source": [
    "model.fit(x=scaled_X_train, y=y_train, verbose=1, epochs= 300, \n",
    "          validation_data=(scaled_X_test, y_test),callbacks=[early_stop])"
   ]
  },
  {
   "cell_type": "code",
   "execution_count": 176,
   "metadata": {},
   "outputs": [],
   "source": [
    "metrics = pd.DataFrame(model.history.history)"
   ]
  },
  {
   "cell_type": "code",
   "execution_count": 177,
   "metadata": {},
   "outputs": [
    {
     "data": {
      "text/plain": [
       "<AxesSubplot:>"
      ]
     },
     "execution_count": 177,
     "metadata": {},
     "output_type": "execute_result"
    },
    {
     "data": {
      "image/png": "[encoded data removed]",
      "text/plain": [
       "<Figure size 432x288 with 1 Axes>"
      ]
     },
     "metadata": {
      "needs_background": "light"
     },
     "output_type": "display_data"
    }
   ],
   "source": [
    "metrics[['loss', 'val_loss']].plot()"
   ]
  },
  {
   "cell_type": "code",
   "execution_count": 178,
   "metadata": {},
   "outputs": [
    {
     "data": {
      "text/plain": [
       "<AxesSubplot:>"
      ]
     },
     "execution_count": 178,
     "metadata": {},
     "output_type": "execute_result"
    },
    {
     "data": {
      "image/png": "[encoded data removed]",
      "text/plain": [
       "<Figure size 432x288 with 1 Axes>"
      ]
     },
     "metadata": {
      "needs_background": "light"
     },
     "output_type": "display_data"
    }
   ],
   "source": [
    "metrics[['loss', 'accuracy']].plot()"
   ]
  },
  {
   "cell_type": "code",
   "execution_count": 179,
   "metadata": {},
   "outputs": [
    {
     "data": {
      "text/html": [
       "<div>\n",
       "<style scoped>\n",
       "    .dataframe tbody tr th:only-of-type {\n",
       "        vertical-align: middle;\n",
       "    }\n",
       "\n",
       "    .dataframe tbody tr th {\n",
       "        vertical-align: top;\n",
       "    }\n",
       "\n",
       "    .dataframe thead th {\n",
       "        text-align: right;\n",
       "    }\n",
       "</style>\n",
       "<table border=\"1\" class=\"dataframe\">\n",
       "  <thead>\n",
       "    <tr style=\"text-align: right;\">\n",
       "      <th></th>\n",
       "      <th>loss</th>\n",
       "      <th>accuracy</th>\n",
       "      <th>val_loss</th>\n",
       "      <th>val_accuracy</th>\n",
       "    </tr>\n",
       "  </thead>\n",
       "  <tbody>\n",
       "    <tr>\n",
       "      <th>0</th>\n",
       "      <td>0.768544</td>\n",
       "      <td>0.448148</td>\n",
       "      <td>0.754288</td>\n",
       "      <td>0.483871</td>\n",
       "    </tr>\n",
       "    <tr>\n",
       "      <th>1</th>\n",
       "      <td>0.748039</td>\n",
       "      <td>0.448148</td>\n",
       "      <td>0.733881</td>\n",
       "      <td>0.451613</td>\n",
       "    </tr>\n",
       "    <tr>\n",
       "      <th>2</th>\n",
       "      <td>0.727286</td>\n",
       "      <td>0.477778</td>\n",
       "      <td>0.717985</td>\n",
       "      <td>0.516129</td>\n",
       "    </tr>\n",
       "    <tr>\n",
       "      <th>3</th>\n",
       "      <td>0.710985</td>\n",
       "      <td>0.514815</td>\n",
       "      <td>0.703946</td>\n",
       "      <td>0.483871</td>\n",
       "    </tr>\n",
       "    <tr>\n",
       "      <th>4</th>\n",
       "      <td>0.697412</td>\n",
       "      <td>0.537037</td>\n",
       "      <td>0.691139</td>\n",
       "      <td>0.580645</td>\n",
       "    </tr>\n",
       "    <tr>\n",
       "      <th>...</th>\n",
       "      <td>...</td>\n",
       "      <td>...</td>\n",
       "      <td>...</td>\n",
       "      <td>...</td>\n",
       "    </tr>\n",
       "    <tr>\n",
       "      <th>179</th>\n",
       "      <td>0.334637</td>\n",
       "      <td>0.848148</td>\n",
       "      <td>0.251102</td>\n",
       "      <td>0.903226</td>\n",
       "    </tr>\n",
       "    <tr>\n",
       "      <th>180</th>\n",
       "      <td>0.334481</td>\n",
       "      <td>0.848148</td>\n",
       "      <td>0.251273</td>\n",
       "      <td>0.903226</td>\n",
       "    </tr>\n",
       "    <tr>\n",
       "      <th>181</th>\n",
       "      <td>0.334327</td>\n",
       "      <td>0.851852</td>\n",
       "      <td>0.253207</td>\n",
       "      <td>0.903226</td>\n",
       "    </tr>\n",
       "    <tr>\n",
       "      <th>182</th>\n",
       "      <td>0.333885</td>\n",
       "      <td>0.855556</td>\n",
       "      <td>0.252223</td>\n",
       "      <td>0.903226</td>\n",
       "    </tr>\n",
       "    <tr>\n",
       "      <th>183</th>\n",
       "      <td>0.334325</td>\n",
       "      <td>0.851852</td>\n",
       "      <td>0.252909</td>\n",
       "      <td>0.903226</td>\n",
       "    </tr>\n",
       "  </tbody>\n",
       "</table>\n",
       "<p>184 rows × 4 columns</p>\n",
       "</div>"
      ],
      "text/plain": [
       "         loss  accuracy  val_loss  val_accuracy\n",
       "0    0.768544  0.448148  0.754288      0.483871\n",
       "1    0.748039  0.448148  0.733881      0.451613\n",
       "2    0.727286  0.477778  0.717985      0.516129\n",
       "3    0.710985  0.514815  0.703946      0.483871\n",
       "4    0.697412  0.537037  0.691139      0.580645\n",
       "..        ...       ...       ...           ...\n",
       "179  0.334637  0.848148  0.251102      0.903226\n",
       "180  0.334481  0.848148  0.251273      0.903226\n",
       "181  0.334327  0.851852  0.253207      0.903226\n",
       "182  0.333885  0.855556  0.252223      0.903226\n",
       "183  0.334325  0.851852  0.252909      0.903226\n",
       "\n",
       "[184 rows x 4 columns]"
      ]
     },
     "execution_count": 179,
     "metadata": {},
     "output_type": "execute_result"
    }
   ],
   "source": [
    "metrics"
   ]
  },
  {
   "cell_type": "code",
   "execution_count": 180,
   "metadata": {},
   "outputs": [
    {
     "name": "stdout",
     "output_type": "stream",
     "text": [
      "1/1 [==============================] - 0s 3ms/step - loss: 0.2529 - accuracy: 0.9032\n"
     ]
    },
    {
     "data": {
      "text/plain": [
       "[0.2529090940952301, 0.9032257795333862]"
      ]
     },
     "execution_count": 180,
     "metadata": {},
     "output_type": "execute_result"
    }
   ],
   "source": [
    "model.evaluate(scaled_X_test, y_test)"
   ]
  },
  {
   "cell_type": "code",
   "execution_count": 181,
   "metadata": {},
   "outputs": [
    {
     "data": {
      "text/plain": [
       "array([[0.01493752],\n",
       "       [0.8358974 ],\n",
       "       [0.79739654]], dtype=float32)"
      ]
     },
     "execution_count": 181,
     "metadata": {},
     "output_type": "execute_result"
    }
   ],
   "source": [
    "pred = model.predict(scaled_X_test)\n",
    "pred[:3]"
   ]
  },
  {
   "cell_type": "code",
   "execution_count": 182,
   "metadata": {},
   "outputs": [
    {
     "data": {
      "text/plain": [
       "array(['Healthy', 'Heart disease'], dtype='<U13')"
      ]
     },
     "execution_count": 182,
     "metadata": {},
     "output_type": "execute_result"
    }
   ],
   "source": [
    "encoder.classes_"
   ]
  },
  {
   "cell_type": "markdown",
   "metadata": {},
   "source": [
    "## Save the model"
   ]
  },
  {
   "cell_type": "code",
   "execution_count": 183,
   "metadata": {},
   "outputs": [],
   "source": [
    "model.save(\"heart_disease_model.h5\")"
   ]
  },
  {
   "cell_type": "code",
   "execution_count": 184,
   "metadata": {},
   "outputs": [],
   "source": [
    "import joblib"
   ]
  },
  {
   "cell_type": "code",
   "execution_count": 185,
   "metadata": {},
   "outputs": [
    {
     "data": {
      "text/plain": [
       "['heart_disease_scaler.pkl']"
      ]
     },
     "execution_count": 185,
     "metadata": {},
     "output_type": "execute_result"
    }
   ],
   "source": [
    "joblib.dump(scaler, 'heart_disease_scaler.pkl')"
   ]
  },
  {
   "cell_type": "markdown",
   "metadata": {},
   "source": [
    "## Test and predict"
   ]
  },
  {
   "cell_type": "code",
   "execution_count": 211,
   "metadata": {},
   "outputs": [
    {
     "data": {
      "text/html": [
       "<div>\n",
       "<style scoped>\n",
       "    .dataframe tbody tr th:only-of-type {\n",
       "        vertical-align: middle;\n",
       "    }\n",
       "\n",
       "    .dataframe tbody tr th {\n",
       "        vertical-align: top;\n",
       "    }\n",
       "\n",
       "    .dataframe thead th {\n",
       "        text-align: right;\n",
       "    }\n",
       "</style>\n",
       "<table border=\"1\" class=\"dataframe\">\n",
       "  <thead>\n",
       "    <tr style=\"text-align: right;\">\n",
       "      <th></th>\n",
       "      <th>age</th>\n",
       "      <th>sex</th>\n",
       "      <th>cp</th>\n",
       "      <th>trestbps</th>\n",
       "      <th>chol</th>\n",
       "      <th>fbs</th>\n",
       "      <th>restecg</th>\n",
       "      <th>thalach</th>\n",
       "      <th>exang</th>\n",
       "      <th>oldpeak</th>\n",
       "      <th>slope</th>\n",
       "      <th>ca</th>\n",
       "      <th>thal</th>\n",
       "      <th>target</th>\n",
       "    </tr>\n",
       "  </thead>\n",
       "  <tbody>\n",
       "    <tr>\n",
       "      <th>51</th>\n",
       "      <td>66</td>\n",
       "      <td>1</td>\n",
       "      <td>0</td>\n",
       "      <td>120</td>\n",
       "      <td>302</td>\n",
       "      <td>0</td>\n",
       "      <td>0</td>\n",
       "      <td>151</td>\n",
       "      <td>0</td>\n",
       "      <td>0.4</td>\n",
       "      <td>1</td>\n",
       "      <td>0</td>\n",
       "      <td>2</td>\n",
       "      <td>1</td>\n",
       "    </tr>\n",
       "    <tr>\n",
       "      <th>177</th>\n",
       "      <td>64</td>\n",
       "      <td>1</td>\n",
       "      <td>2</td>\n",
       "      <td>140</td>\n",
       "      <td>335</td>\n",
       "      <td>0</td>\n",
       "      <td>1</td>\n",
       "      <td>158</td>\n",
       "      <td>0</td>\n",
       "      <td>0.0</td>\n",
       "      <td>2</td>\n",
       "      <td>0</td>\n",
       "      <td>2</td>\n",
       "      <td>0</td>\n",
       "    </tr>\n",
       "    <tr>\n",
       "      <th>41</th>\n",
       "      <td>48</td>\n",
       "      <td>1</td>\n",
       "      <td>1</td>\n",
       "      <td>130</td>\n",
       "      <td>245</td>\n",
       "      <td>0</td>\n",
       "      <td>0</td>\n",
       "      <td>180</td>\n",
       "      <td>0</td>\n",
       "      <td>0.2</td>\n",
       "      <td>1</td>\n",
       "      <td>0</td>\n",
       "      <td>2</td>\n",
       "      <td>1</td>\n",
       "    </tr>\n",
       "    <tr>\n",
       "      <th>61</th>\n",
       "      <td>54</td>\n",
       "      <td>1</td>\n",
       "      <td>1</td>\n",
       "      <td>108</td>\n",
       "      <td>309</td>\n",
       "      <td>0</td>\n",
       "      <td>1</td>\n",
       "      <td>156</td>\n",
       "      <td>0</td>\n",
       "      <td>0.0</td>\n",
       "      <td>2</td>\n",
       "      <td>0</td>\n",
       "      <td>3</td>\n",
       "      <td>1</td>\n",
       "    </tr>\n",
       "    <tr>\n",
       "      <th>188</th>\n",
       "      <td>50</td>\n",
       "      <td>1</td>\n",
       "      <td>2</td>\n",
       "      <td>140</td>\n",
       "      <td>233</td>\n",
       "      <td>0</td>\n",
       "      <td>1</td>\n",
       "      <td>163</td>\n",
       "      <td>0</td>\n",
       "      <td>0.6</td>\n",
       "      <td>1</td>\n",
       "      <td>1</td>\n",
       "      <td>3</td>\n",
       "      <td>0</td>\n",
       "    </tr>\n",
       "  </tbody>\n",
       "</table>\n",
       "</div>"
      ],
      "text/plain": [
       "     age  sex  cp  trestbps  chol  fbs  restecg  thalach  exang  oldpeak  \\\n",
       "51    66    1   0       120   302    0        0      151      0      0.4   \n",
       "177   64    1   2       140   335    0        1      158      0      0.0   \n",
       "41    48    1   1       130   245    0        0      180      0      0.2   \n",
       "61    54    1   1       108   309    0        1      156      0      0.0   \n",
       "188   50    1   2       140   233    0        1      163      0      0.6   \n",
       "\n",
       "     slope  ca  thal  target  \n",
       "51       1   0     2       1  \n",
       "177      2   0     2       0  \n",
       "41       1   0     2       1  \n",
       "61       2   0     3       1  \n",
       "188      1   1     3       0  "
      ]
     },
     "execution_count": 211,
     "metadata": {},
     "output_type": "execute_result"
    }
   ],
   "source": [
    "df.sample(5)"
   ]
  },
  {
   "cell_type": "code",
   "execution_count": 212,
   "metadata": {},
   "outputs": [],
   "source": [
    "from tensorflow.keras.models import load_model"
   ]
  },
  {
   "cell_type": "code",
   "execution_count": 213,
   "metadata": {},
   "outputs": [],
   "source": [
    "heart_disease_model = load_model('heart_disease_model.h5')\n",
    "heart_disease_scaler = joblib.load('heart_disease_scaler.pkl')"
   ]
  },
  {
   "cell_type": "code",
   "execution_count": 214,
   "metadata": {},
   "outputs": [],
   "source": [
    "test_instance = {'age': 38, 'sex': 1, 'trestbps':133, 'chol':290, 'fbs':0, 'restecg':1, 'thalach':150,\n",
    "                 'exang':0, 'oldpeak':1.8, 'slope':1, 'ca':0, 'thal':3, 'cp_1':0, 'cp_2':0, 'cp_3':0}"
   ]
  },
  {
   "cell_type": "code",
   "execution_count": null,
   "metadata": {},
   "outputs": [],
   "source": []
  },
  {
   "cell_type": "code",
   "execution_count": 218,
   "metadata": {},
   "outputs": [],
   "source": [
    "def prediction(model, scaler, json):\n",
    "    age = json['age']\n",
    "    sex = json['sex']\n",
    "    trestbps = json['trestbps']\n",
    "    chol = json['chol']\n",
    "    fbs = json['fbs']\n",
    "    restecg = json['restecg']\n",
    "    thalach = json['thalach']\n",
    "    exang = json['exang']\n",
    "    oldpeak = json['oldpeak']\n",
    "    slope = json['oldpeak']\n",
    "    ca = json['ca']\n",
    "    thal = json['thal']\n",
    "    cp_1 = json['cp_1']\n",
    "    cp_2 = json['cp_2']\n",
    "    cp_3 = json['cp_3']\n",
    "    \n",
    "    heart = [[age, sex, trestbps, chol, fbs, restecg, thalach,\n",
    "       exang, oldpeak, slope, ca, thal, cp_1, cp_2, cp_3]]\n",
    "    heart = scaler.transform(heart)\n",
    "\n",
    "    classes = np.array(['Healthy', 'Heart disease'])\n",
    "    classes_index = np.argmax(model.predict(heart), axis=-1)[0]\n",
    "    \n",
    "    return classes[classes_index]"
   ]
  },
  {
   "cell_type": "code",
   "execution_count": 219,
   "metadata": {},
   "outputs": [
    {
     "data": {
      "text/plain": [
       "'Healthy'"
      ]
     },
     "execution_count": 219,
     "metadata": {},
     "output_type": "execute_result"
    }
   ],
   "source": [
    "prediction(heart_disease_model, heart_disease_scaler, test_instance)"
   ]
  },
  {
   "cell_type": "code",
   "execution_count": null,
   "metadata": {},
   "outputs": [],
   "source": []
  },
  {
   "cell_type": "code",
   "execution_count": null,
   "metadata": {},
   "outputs": [],
   "source": []
  },
  {
   "cell_type": "code",
   "execution_count": null,
   "metadata": {},
   "outputs": [],
   "source": []
  }
 ],
 "metadata": {
  "kernelspec": {
   "display_name": "Python 3",
   "language": "python",
   "name": "python3"
  },
  "language_info": {
   "codemirror_mode": {
    "name": "ipython",
    "version": 3
   },
   "file_extension": ".py",
   "mimetype": "text/x-python",
   "name": "python",
   "nbconvert_exporter": "python",
   "pygments_lexer": "ipython3",
   "version": "3.8.5"
  }
 },
 "nbformat": 4,
 "nbformat_minor": 4
}
