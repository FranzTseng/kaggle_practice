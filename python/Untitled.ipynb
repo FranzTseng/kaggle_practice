{
 "cells": [
  {
   "cell_type": "code",
   "execution_count": 1,
   "metadata": {},
   "outputs": [],
   "source": [
    "MENU_PROMPT = \"\\nEnter 'a' to add a movie, 'l' to see your movies, 'f' to find a movie by title, or 'q' to quit: \"\n",
    "movies = []"
   ]
  },
  {
   "cell_type": "code",
   "execution_count": 3,
   "metadata": {},
   "outputs": [],
   "source": [
    "def movie_list():\n",
    "    title = input(\"Enter the movie title: \")\n",
    "    director = input(\"Enter the movie director: \")\n",
    "    year = input(\"Enter the movie release year: \")\n",
    "    movies.append({\n",
    "        'title': title,\n",
    "        'director': director,\n",
    "        'year': year\n",
    "    })"
   ]
  },
  {
   "cell_type": "code",
   "execution_count": 4,
   "metadata": {},
   "outputs": [],
   "source": [
    "def show_movie():\n",
    "    for movie in movies:\n",
    "        print_movie(movie)\n",
    "\n",
    "\n",
    "def print_movie(movie):\n",
    "    print(f\"Title: {movie['title']}\")\n",
    "    print(f\"Director: {movie['director']}\")\n",
    "    print(f\"Year: {movie['year']}\")"
   ]
  },
  {
   "cell_type": "code",
   "execution_count": 11,
   "metadata": {},
   "outputs": [],
   "source": [
    "def find_movie():\n",
    "    search = input(\"Search for movies: \")\n",
    "    if movies['search']sea in movies:\n",
    "        print_movie(search)\n",
    "    else:\n",
    "        print(\"no result\")"
   ]
  },
  {
   "cell_type": "code",
   "execution_count": 12,
   "metadata": {},
   "outputs": [
    {
     "name": "stdout",
     "output_type": "stream",
     "text": [
      "Search for movies: starwar\n",
      "no result\n"
     ]
    }
   ],
   "source": [
    "find_movie()"
   ]
  },
  {
   "cell_type": "code",
   "execution_count": 17,
   "metadata": {},
   "outputs": [
    {
     "data": {
      "text/plain": [
       "{'title': 'starwar', 'director': 'george lukas', 'year': '2010'}"
      ]
     },
     "execution_count": 17,
     "metadata": {},
     "output_type": "execute_result"
    }
   ],
   "source": [
    "movies[0]"
   ]
  },
  {
   "cell_type": "code",
   "execution_count": null,
   "metadata": {},
   "outputs": [],
   "source": []
  }
 ],
 "metadata": {
  "kernelspec": {
   "display_name": "Python 3",
   "language": "python",
   "name": "python3"
  },
  "language_info": {
   "codemirror_mode": {
    "name": "ipython",
    "version": 3
   },
   "file_extension": ".py",
   "mimetype": "text/x-python",
   "name": "python",
   "nbconvert_exporter": "python",
   "pygments_lexer": "ipython3",
   "version": "3.8.5"
  }
 },
 "nbformat": 4,
 "nbformat_minor": 4
}
