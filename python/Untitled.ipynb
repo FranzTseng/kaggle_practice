{
 "cells": [
  {
   "cell_type": "code",
   "execution_count": 1,
   "metadata": {},
   "outputs": [],
   "source": [
    "MENU_PROMPT = \"\\nEnter 'a' to add a movie, 'l' to see your movies, 'f' to find a movie by title, or 'q' to quit: \"\n",
    "movies = []"
   ]
  },
  {
   "cell_type": "code",
   "execution_count": 2,
   "metadata": {},
   "outputs": [],
   "source": [
    "def movie_list():\n",
    "    title = input(\"Enter the movie title: \")\n",
    "    director = input(\"Enter the movie director: \")\n",
    "    year = input(\"Enter the movie release year: \")\n",
    "    movies.append({\n",
    "        'title': title,\n",
    "        'director': director,\n",
    "        'year': year\n",
    "    })"
   ]
  },
  {
   "cell_type": "code",
   "execution_count": 3,
   "metadata": {},
   "outputs": [],
   "source": [
    "def show_movie():\n",
    "    for movie in movies:\n",
    "        print_movie(movie)\n",
    "\n",
    "\n",
    "def print_movie(movie):\n",
    "    print(f\"Title: {movie['title']}\")\n",
    "    print(f\"Director: {movie['director']}\")\n",
    "    print(f\"Year: {movie['year']}\")"
   ]
  },
  {
   "cell_type": "code",
   "execution_count": 4,
   "metadata": {},
   "outputs": [],
   "source": [
    "def find_movie():\n",
    "    search = input(\"Search for movies: \")\n",
    "    for movie in movies:\n",
    "        if movie['title']==search:\n",
    "            print_movie(movie)\n",
    "        else:\n",
    "            pass \n",
    "   "
   ]
  },
  {
   "cell_type": "code",
   "execution_count": 5,
   "metadata": {},
   "outputs": [
    {
     "name": "stdout",
     "output_type": "stream",
     "text": [
      "Enter the movie title: starwar\n",
      "Enter the movie director: george\n",
      "Enter the movie release year: 1954\n"
     ]
    }
   ],
   "source": [
    "movie_list()"
   ]
  },
  {
   "cell_type": "code",
   "execution_count": 6,
   "metadata": {},
   "outputs": [
    {
     "name": "stdout",
     "output_type": "stream",
     "text": [
      "Enter the movie title: jurasic park\n",
      "Enter the movie director: 1999\n",
      "Enter the movie release year: 1988\n"
     ]
    }
   ],
   "source": [
    "movie_list()"
   ]
  },
  {
   "cell_type": "code",
   "execution_count": 8,
   "metadata": {},
   "outputs": [
    {
     "name": "stdout",
     "output_type": "stream",
     "text": [
      "Search for movies: starwar\n",
      "Title: starwar\n",
      "Director: george\n",
      "Year: 1984\n"
     ]
    }
   ],
   "source": [
    "find_movie()"
   ]
  },
  {
   "cell_type": "code",
   "execution_count": 12,
   "metadata": {},
   "outputs": [],
   "source": [
    "def menu():\n",
    "    selection = input(MENU_PROMPT)\n",
    "    while selection != 'q':\n",
    "        if selection == \"a\":\n",
    "            movie_list()\n",
    "        elif selection == \"l\":\n",
    "            show_movie()\n",
    "        elif selection == \"f\":\n",
    "            find_movie()\n",
    "        else:\n",
    "            print('Unknown command. Please try again.')\n",
    "\n",
    "        selection = input(MENU_PROMPT)"
   ]
  },
  {
   "cell_type": "code",
   "execution_count": null,
   "metadata": {},
   "outputs": [
    {
     "name": "stdout",
     "output_type": "stream",
     "text": [
      "\n",
      "Enter 'a' to add a movie, 'l' to see your movies, 'f' to find a movie by title, or 'q' to quit: f\n",
      "Search for movies: starwar\n",
      "Title: starwar\n",
      "Director: george\n",
      "Year: 1954\n",
      "Search for movies: q\n"
     ]
    }
   ],
   "source": [
    "menu()"
   ]
  },
  {
   "cell_type": "code",
   "execution_count": null,
   "metadata": {},
   "outputs": [],
   "source": []
  }
 ],
 "metadata": {
  "kernelspec": {
   "display_name": "Python 3",
   "language": "python",
   "name": "python3"
  },
  "language_info": {
   "codemirror_mode": {
    "name": "ipython",
    "version": 3
   },
   "file_extension": ".py",
   "mimetype": "text/x-python",
   "name": "python",
   "nbconvert_exporter": "python",
   "pygments_lexer": "ipython3",
   "version": "3.8.5"
  }
 },
 "nbformat": 4,
 "nbformat_minor": 4
}
